{
  "nbformat": 4,
  "nbformat_minor": 0,
  "metadata": {
    "kernelspec": {
      "display_name": "Python 3",
      "language": "python",
      "name": "python3"
    },
    "language_info": {
      "codemirror_mode": {
        "name": "ipython",
        "version": 3
      },
      "file_extension": ".py",
      "mimetype": "text/x-python",
      "name": "python",
      "nbconvert_exporter": "python",
      "pygments_lexer": "ipython3",
      "version": "3.7.0"
    },
    "colab": {
      "name": "GlobalRainfall_ML.ipynb",
      "provenance": [],
      "include_colab_link": true
    },
    "widgets": {
      "application/vnd.jupyter.widget-state+json": {
        "fa5d432e2d7c47209e5066c25b01336c": {
          "model_module": "@jupyter-widgets/controls",
          "model_name": "HBoxModel",
          "state": {
            "_view_name": "HBoxView",
            "_dom_classes": [],
            "_model_name": "HBoxModel",
            "_view_module": "@jupyter-widgets/controls",
            "_model_module_version": "1.5.0",
            "_view_count": null,
            "_view_module_version": "1.5.0",
            "box_style": "",
            "layout": "IPY_MODEL_f21d8b19100b41b899873b50b3f4e86b",
            "_model_module": "@jupyter-widgets/controls",
            "children": [
              "IPY_MODEL_4d6f68fc5fb34963b694f3bf287defa4",
              "IPY_MODEL_4e9a3c1eceaf401fb4767b413e4d7e02"
            ]
          }
        },
        "f21d8b19100b41b899873b50b3f4e86b": {
          "model_module": "@jupyter-widgets/base",
          "model_name": "LayoutModel",
          "state": {
            "_view_name": "LayoutView",
            "grid_template_rows": null,
            "right": null,
            "justify_content": null,
            "_view_module": "@jupyter-widgets/base",
            "overflow": null,
            "_model_module_version": "1.2.0",
            "_view_count": null,
            "flex_flow": null,
            "width": null,
            "min_width": null,
            "border": null,
            "align_items": null,
            "bottom": null,
            "_model_module": "@jupyter-widgets/base",
            "top": null,
            "grid_column": null,
            "overflow_y": null,
            "overflow_x": null,
            "grid_auto_flow": null,
            "grid_area": null,
            "grid_template_columns": null,
            "flex": null,
            "_model_name": "LayoutModel",
            "justify_items": null,
            "grid_row": null,
            "max_height": null,
            "align_content": null,
            "visibility": null,
            "align_self": null,
            "height": null,
            "min_height": null,
            "padding": null,
            "grid_auto_rows": null,
            "grid_gap": null,
            "max_width": null,
            "order": null,
            "_view_module_version": "1.2.0",
            "grid_template_areas": null,
            "object_position": null,
            "object_fit": null,
            "grid_auto_columns": null,
            "margin": null,
            "display": null,
            "left": null
          }
        },
        "4d6f68fc5fb34963b694f3bf287defa4": {
          "model_module": "@jupyter-widgets/controls",
          "model_name": "FloatProgressModel",
          "state": {
            "_view_name": "ProgressView",
            "style": "IPY_MODEL_ee347a597e144d5db9d277da22889b2e",
            "_dom_classes": [],
            "description": "100%",
            "_model_name": "FloatProgressModel",
            "bar_style": "success",
            "max": 1,
            "_view_module": "@jupyter-widgets/controls",
            "_model_module_version": "1.5.0",
            "value": 1,
            "_view_count": null,
            "_view_module_version": "1.5.0",
            "orientation": "horizontal",
            "min": 0,
            "description_tooltip": null,
            "_model_module": "@jupyter-widgets/controls",
            "layout": "IPY_MODEL_435615342e364f769faa95236822b22a"
          }
        },
        "4e9a3c1eceaf401fb4767b413e4d7e02": {
          "model_module": "@jupyter-widgets/controls",
          "model_name": "HTMLModel",
          "state": {
            "_view_name": "HTMLView",
            "style": "IPY_MODEL_470ff60da39840e0a6f58e20bee58c09",
            "_dom_classes": [],
            "description": "",
            "_model_name": "HTMLModel",
            "placeholder": "​",
            "_view_module": "@jupyter-widgets/controls",
            "_model_module_version": "1.5.0",
            "value": " 1/1 [16:26&lt;00:00, 986.57s/it]",
            "_view_count": null,
            "_view_module_version": "1.5.0",
            "description_tooltip": null,
            "_model_module": "@jupyter-widgets/controls",
            "layout": "IPY_MODEL_c8c3f52748874d2b885353f794adaede"
          }
        },
        "ee347a597e144d5db9d277da22889b2e": {
          "model_module": "@jupyter-widgets/controls",
          "model_name": "ProgressStyleModel",
          "state": {
            "_view_name": "StyleView",
            "_model_name": "ProgressStyleModel",
            "description_width": "initial",
            "_view_module": "@jupyter-widgets/base",
            "_model_module_version": "1.5.0",
            "_view_count": null,
            "_view_module_version": "1.2.0",
            "bar_color": null,
            "_model_module": "@jupyter-widgets/controls"
          }
        },
        "435615342e364f769faa95236822b22a": {
          "model_module": "@jupyter-widgets/base",
          "model_name": "LayoutModel",
          "state": {
            "_view_name": "LayoutView",
            "grid_template_rows": null,
            "right": null,
            "justify_content": null,
            "_view_module": "@jupyter-widgets/base",
            "overflow": null,
            "_model_module_version": "1.2.0",
            "_view_count": null,
            "flex_flow": null,
            "width": null,
            "min_width": null,
            "border": null,
            "align_items": null,
            "bottom": null,
            "_model_module": "@jupyter-widgets/base",
            "top": null,
            "grid_column": null,
            "overflow_y": null,
            "overflow_x": null,
            "grid_auto_flow": null,
            "grid_area": null,
            "grid_template_columns": null,
            "flex": null,
            "_model_name": "LayoutModel",
            "justify_items": null,
            "grid_row": null,
            "max_height": null,
            "align_content": null,
            "visibility": null,
            "align_self": null,
            "height": null,
            "min_height": null,
            "padding": null,
            "grid_auto_rows": null,
            "grid_gap": null,
            "max_width": null,
            "order": null,
            "_view_module_version": "1.2.0",
            "grid_template_areas": null,
            "object_position": null,
            "object_fit": null,
            "grid_auto_columns": null,
            "margin": null,
            "display": null,
            "left": null
          }
        },
        "470ff60da39840e0a6f58e20bee58c09": {
          "model_module": "@jupyter-widgets/controls",
          "model_name": "DescriptionStyleModel",
          "state": {
            "_view_name": "StyleView",
            "_model_name": "DescriptionStyleModel",
            "description_width": "",
            "_view_module": "@jupyter-widgets/base",
            "_model_module_version": "1.5.0",
            "_view_count": null,
            "_view_module_version": "1.2.0",
            "_model_module": "@jupyter-widgets/controls"
          }
        },
        "c8c3f52748874d2b885353f794adaede": {
          "model_module": "@jupyter-widgets/base",
          "model_name": "LayoutModel",
          "state": {
            "_view_name": "LayoutView",
            "grid_template_rows": null,
            "right": null,
            "justify_content": null,
            "_view_module": "@jupyter-widgets/base",
            "overflow": null,
            "_model_module_version": "1.2.0",
            "_view_count": null,
            "flex_flow": null,
            "width": null,
            "min_width": null,
            "border": null,
            "align_items": null,
            "bottom": null,
            "_model_module": "@jupyter-widgets/base",
            "top": null,
            "grid_column": null,
            "overflow_y": null,
            "overflow_x": null,
            "grid_auto_flow": null,
            "grid_area": null,
            "grid_template_columns": null,
            "flex": null,
            "_model_name": "LayoutModel",
            "justify_items": null,
            "grid_row": null,
            "max_height": null,
            "align_content": null,
            "visibility": null,
            "align_self": null,
            "height": null,
            "min_height": null,
            "padding": null,
            "grid_auto_rows": null,
            "grid_gap": null,
            "max_width": null,
            "order": null,
            "_view_module_version": "1.2.0",
            "grid_template_areas": null,
            "object_position": null,
            "object_fit": null,
            "grid_auto_columns": null,
            "margin": null,
            "display": null,
            "left": null
          }
        }
      }
    }
  },
  "cells": [
    {
      "cell_type": "markdown",
      "metadata": {
        "id": "view-in-github",
        "colab_type": "text"
      },
      "source": [
        "<a href=\"https://colab.research.google.com/github/subhmm/rainGLOBAL/blob/main/GlobalRainfall_ML.ipynb\" target=\"_parent\"><img src=\"https://colab.research.google.com/assets/colab-badge.svg\" alt=\"Open In Colab\"/></a>"
      ]
    },
    {
      "cell_type": "markdown",
      "metadata": {
        "id": "B3lkT7iEBEeH"
      },
      "source": [
        "#Global Rainfall Rate Prediction\r\n",
        "\r\n",
        "### Importing Modules and Loading Data"
      ]
    },
    {
      "cell_type": "code",
      "metadata": {
        "id": "dhnM7hUKsPiD"
      },
      "source": [
        "# Importing necessary modules\n",
        "import numpy as np\n",
        "import pandas as pd\n",
        "import matplotlib.pyplot as plt\n",
        "import seaborn as sns\n",
        "%matplotlib inline\n",
        "\n",
        "import datetime"
      ],
      "execution_count": 1,
      "outputs": []
    },
    {
      "cell_type": "code",
      "metadata": {
        "id": "mndcYIw-lEtp"
      },
      "source": [
        "from IPython.display import display"
      ],
      "execution_count": 2,
      "outputs": []
    },
    {
      "cell_type": "code",
      "metadata": {
        "colab": {
          "base_uri": "https://localhost:8080/"
        },
        "id": "KVFwssE2sxAH",
        "outputId": "5728d93e-89c4-4736-acfe-9582e778789d"
      },
      "source": [
        "from google.colab import drive\r\n",
        "drive.mount('/content/drive')"
      ],
      "execution_count": 3,
      "outputs": [
        {
          "output_type": "stream",
          "text": [
            "Mounted at /content/drive\n"
          ],
          "name": "stdout"
        }
      ]
    },
    {
      "cell_type": "code",
      "metadata": {
        "colab": {
          "base_uri": "https://localhost:8080/",
          "height": 256
        },
        "id": "CGINX3HssPiM",
        "outputId": "e4d5f5c1-8756-4ea3-8162-9f0a7a0b3665"
      },
      "source": [
        "Global = pd.read_csv('/content/drive/My Drive/Colab Notebooks/Global.csv', index_col=[0,1])\n",
        "Global.head()"
      ],
      "execution_count": 4,
      "outputs": [
        {
          "output_type": "execute_result",
          "data": {
            "text/html": [
              "<div>\n",
              "<style scoped>\n",
              "    .dataframe tbody tr th:only-of-type {\n",
              "        vertical-align: middle;\n",
              "    }\n",
              "\n",
              "    .dataframe tbody tr th {\n",
              "        vertical-align: top;\n",
              "    }\n",
              "\n",
              "    .dataframe thead th {\n",
              "        text-align: right;\n",
              "    }\n",
              "</style>\n",
              "<table border=\"1\" class=\"dataframe\">\n",
              "  <thead>\n",
              "    <tr style=\"text-align: right;\">\n",
              "      <th></th>\n",
              "      <th></th>\n",
              "      <th>1998-01-01</th>\n",
              "      <th>1998-01-02</th>\n",
              "      <th>1998-01-03</th>\n",
              "      <th>1998-01-04</th>\n",
              "      <th>1998-01-05</th>\n",
              "      <th>1998-01-06</th>\n",
              "      <th>1998-01-07</th>\n",
              "      <th>1998-01-08</th>\n",
              "      <th>1998-01-09</th>\n",
              "      <th>1998-01-10</th>\n",
              "      <th>1998-01-11</th>\n",
              "      <th>1998-01-12</th>\n",
              "      <th>1998-01-13</th>\n",
              "      <th>1998-01-14</th>\n",
              "      <th>1998-01-15</th>\n",
              "      <th>1998-01-16</th>\n",
              "      <th>1998-01-17</th>\n",
              "      <th>1998-01-18</th>\n",
              "      <th>1998-01-19</th>\n",
              "      <th>1998-01-20</th>\n",
              "      <th>1998-01-21</th>\n",
              "      <th>1998-01-22</th>\n",
              "      <th>1998-01-23</th>\n",
              "      <th>1998-01-24</th>\n",
              "      <th>1998-01-25</th>\n",
              "      <th>1998-01-26</th>\n",
              "      <th>1998-01-27</th>\n",
              "      <th>1998-01-28</th>\n",
              "      <th>1998-01-29</th>\n",
              "      <th>1998-01-30</th>\n",
              "      <th>1998-01-31</th>\n",
              "      <th>1998-02-01</th>\n",
              "      <th>1998-02-02</th>\n",
              "      <th>1998-02-03</th>\n",
              "      <th>1998-02-04</th>\n",
              "      <th>1998-02-05</th>\n",
              "      <th>1998-02-06</th>\n",
              "      <th>1998-02-07</th>\n",
              "      <th>1998-02-08</th>\n",
              "      <th>1998-02-09</th>\n",
              "      <th>...</th>\n",
              "      <th>2019-11-21</th>\n",
              "      <th>2019-11-22</th>\n",
              "      <th>2019-11-23</th>\n",
              "      <th>2019-11-24</th>\n",
              "      <th>2019-11-25</th>\n",
              "      <th>2019-11-26</th>\n",
              "      <th>2019-11-27</th>\n",
              "      <th>2019-11-28</th>\n",
              "      <th>2019-11-29</th>\n",
              "      <th>2019-11-30</th>\n",
              "      <th>2019-12-01</th>\n",
              "      <th>2019-12-02</th>\n",
              "      <th>2019-12-03</th>\n",
              "      <th>2019-12-04</th>\n",
              "      <th>2019-12-05</th>\n",
              "      <th>2019-12-06</th>\n",
              "      <th>2019-12-07</th>\n",
              "      <th>2019-12-08</th>\n",
              "      <th>2019-12-09</th>\n",
              "      <th>2019-12-10</th>\n",
              "      <th>2019-12-11</th>\n",
              "      <th>2019-12-12</th>\n",
              "      <th>2019-12-13</th>\n",
              "      <th>2019-12-14</th>\n",
              "      <th>2019-12-15</th>\n",
              "      <th>2019-12-16</th>\n",
              "      <th>2019-12-17</th>\n",
              "      <th>2019-12-18</th>\n",
              "      <th>2019-12-19</th>\n",
              "      <th>2019-12-20</th>\n",
              "      <th>2019-12-21</th>\n",
              "      <th>2019-12-22</th>\n",
              "      <th>2019-12-23</th>\n",
              "      <th>2019-12-24</th>\n",
              "      <th>2019-12-25</th>\n",
              "      <th>2019-12-26</th>\n",
              "      <th>2019-12-27</th>\n",
              "      <th>2019-12-28</th>\n",
              "      <th>2019-12-29</th>\n",
              "      <th>2019-12-30</th>\n",
              "    </tr>\n",
              "  </thead>\n",
              "  <tbody>\n",
              "    <tr>\n",
              "      <th rowspan=\"5\" valign=\"top\">59.875</th>\n",
              "      <th>4.875</th>\n",
              "      <td>21.69</td>\n",
              "      <td>2.55</td>\n",
              "      <td>0.0</td>\n",
              "      <td>2.34</td>\n",
              "      <td>93.72</td>\n",
              "      <td>27.30</td>\n",
              "      <td>1.38</td>\n",
              "      <td>15.00</td>\n",
              "      <td>22.14</td>\n",
              "      <td>53.22</td>\n",
              "      <td>83.25</td>\n",
              "      <td>55.86</td>\n",
              "      <td>0.09</td>\n",
              "      <td>9.06</td>\n",
              "      <td>4.56</td>\n",
              "      <td>13.47</td>\n",
              "      <td>5.01</td>\n",
              "      <td>2.25</td>\n",
              "      <td>21.06</td>\n",
              "      <td>23.07</td>\n",
              "      <td>15.36</td>\n",
              "      <td>4.83</td>\n",
              "      <td>14.61</td>\n",
              "      <td>1.89</td>\n",
              "      <td>4.08</td>\n",
              "      <td>1.32</td>\n",
              "      <td>7.80</td>\n",
              "      <td>16.17</td>\n",
              "      <td>0.00</td>\n",
              "      <td>4.77</td>\n",
              "      <td>0.15</td>\n",
              "      <td>1.23</td>\n",
              "      <td>0.00</td>\n",
              "      <td>12.06</td>\n",
              "      <td>0.36</td>\n",
              "      <td>0.00</td>\n",
              "      <td>0.0</td>\n",
              "      <td>0.0</td>\n",
              "      <td>0.0</td>\n",
              "      <td>5.73</td>\n",
              "      <td>...</td>\n",
              "      <td>2.43</td>\n",
              "      <td>1.92</td>\n",
              "      <td>15.57</td>\n",
              "      <td>1.77</td>\n",
              "      <td>43.80</td>\n",
              "      <td>39.54</td>\n",
              "      <td>37.65</td>\n",
              "      <td>20.43</td>\n",
              "      <td>63.42</td>\n",
              "      <td>58.95</td>\n",
              "      <td>73.89</td>\n",
              "      <td>2.19</td>\n",
              "      <td>0.00</td>\n",
              "      <td>0.00</td>\n",
              "      <td>0.0</td>\n",
              "      <td>2.52</td>\n",
              "      <td>2.07</td>\n",
              "      <td>0.0</td>\n",
              "      <td>0.0</td>\n",
              "      <td>23.97</td>\n",
              "      <td>1.95</td>\n",
              "      <td>0.0</td>\n",
              "      <td>0.0</td>\n",
              "      <td>0.00</td>\n",
              "      <td>0.21</td>\n",
              "      <td>9.60</td>\n",
              "      <td>23.43</td>\n",
              "      <td>3.66</td>\n",
              "      <td>12.78</td>\n",
              "      <td>20.64</td>\n",
              "      <td>46.05</td>\n",
              "      <td>54.45</td>\n",
              "      <td>17.31</td>\n",
              "      <td>0.30</td>\n",
              "      <td>8.88</td>\n",
              "      <td>0.0</td>\n",
              "      <td>0.0</td>\n",
              "      <td>0.0</td>\n",
              "      <td>0.0</td>\n",
              "      <td>0.48</td>\n",
              "    </tr>\n",
              "    <tr>\n",
              "      <th>5.125</th>\n",
              "      <td>17.79</td>\n",
              "      <td>6.75</td>\n",
              "      <td>0.0</td>\n",
              "      <td>0.84</td>\n",
              "      <td>64.62</td>\n",
              "      <td>25.41</td>\n",
              "      <td>4.20</td>\n",
              "      <td>7.41</td>\n",
              "      <td>7.35</td>\n",
              "      <td>52.38</td>\n",
              "      <td>69.60</td>\n",
              "      <td>49.47</td>\n",
              "      <td>0.00</td>\n",
              "      <td>17.49</td>\n",
              "      <td>4.32</td>\n",
              "      <td>10.50</td>\n",
              "      <td>2.04</td>\n",
              "      <td>0.15</td>\n",
              "      <td>24.69</td>\n",
              "      <td>19.02</td>\n",
              "      <td>17.91</td>\n",
              "      <td>6.54</td>\n",
              "      <td>16.56</td>\n",
              "      <td>1.35</td>\n",
              "      <td>2.46</td>\n",
              "      <td>3.66</td>\n",
              "      <td>10.68</td>\n",
              "      <td>12.12</td>\n",
              "      <td>0.00</td>\n",
              "      <td>1.80</td>\n",
              "      <td>0.12</td>\n",
              "      <td>3.18</td>\n",
              "      <td>0.00</td>\n",
              "      <td>6.72</td>\n",
              "      <td>0.09</td>\n",
              "      <td>0.00</td>\n",
              "      <td>0.0</td>\n",
              "      <td>0.0</td>\n",
              "      <td>0.0</td>\n",
              "      <td>4.26</td>\n",
              "      <td>...</td>\n",
              "      <td>1.56</td>\n",
              "      <td>9.24</td>\n",
              "      <td>14.73</td>\n",
              "      <td>1.74</td>\n",
              "      <td>52.68</td>\n",
              "      <td>19.38</td>\n",
              "      <td>38.13</td>\n",
              "      <td>34.80</td>\n",
              "      <td>49.62</td>\n",
              "      <td>54.81</td>\n",
              "      <td>50.46</td>\n",
              "      <td>3.96</td>\n",
              "      <td>0.36</td>\n",
              "      <td>0.00</td>\n",
              "      <td>0.0</td>\n",
              "      <td>3.69</td>\n",
              "      <td>0.39</td>\n",
              "      <td>0.0</td>\n",
              "      <td>0.0</td>\n",
              "      <td>21.84</td>\n",
              "      <td>10.62</td>\n",
              "      <td>0.0</td>\n",
              "      <td>0.0</td>\n",
              "      <td>0.00</td>\n",
              "      <td>0.84</td>\n",
              "      <td>12.90</td>\n",
              "      <td>10.65</td>\n",
              "      <td>4.53</td>\n",
              "      <td>16.77</td>\n",
              "      <td>13.26</td>\n",
              "      <td>39.69</td>\n",
              "      <td>68.25</td>\n",
              "      <td>21.27</td>\n",
              "      <td>0.00</td>\n",
              "      <td>7.74</td>\n",
              "      <td>0.0</td>\n",
              "      <td>0.0</td>\n",
              "      <td>0.0</td>\n",
              "      <td>0.0</td>\n",
              "      <td>0.18</td>\n",
              "    </tr>\n",
              "    <tr>\n",
              "      <th>5.375</th>\n",
              "      <td>10.92</td>\n",
              "      <td>5.88</td>\n",
              "      <td>0.0</td>\n",
              "      <td>0.00</td>\n",
              "      <td>31.59</td>\n",
              "      <td>24.87</td>\n",
              "      <td>7.08</td>\n",
              "      <td>2.88</td>\n",
              "      <td>4.17</td>\n",
              "      <td>45.30</td>\n",
              "      <td>87.99</td>\n",
              "      <td>47.82</td>\n",
              "      <td>0.00</td>\n",
              "      <td>14.82</td>\n",
              "      <td>2.10</td>\n",
              "      <td>7.62</td>\n",
              "      <td>0.90</td>\n",
              "      <td>0.09</td>\n",
              "      <td>45.18</td>\n",
              "      <td>19.53</td>\n",
              "      <td>14.10</td>\n",
              "      <td>8.40</td>\n",
              "      <td>12.42</td>\n",
              "      <td>0.12</td>\n",
              "      <td>0.12</td>\n",
              "      <td>1.20</td>\n",
              "      <td>4.92</td>\n",
              "      <td>3.24</td>\n",
              "      <td>0.06</td>\n",
              "      <td>0.72</td>\n",
              "      <td>0.60</td>\n",
              "      <td>2.85</td>\n",
              "      <td>0.00</td>\n",
              "      <td>1.17</td>\n",
              "      <td>0.99</td>\n",
              "      <td>0.00</td>\n",
              "      <td>0.0</td>\n",
              "      <td>0.0</td>\n",
              "      <td>0.0</td>\n",
              "      <td>1.59</td>\n",
              "      <td>...</td>\n",
              "      <td>1.65</td>\n",
              "      <td>15.21</td>\n",
              "      <td>7.56</td>\n",
              "      <td>2.94</td>\n",
              "      <td>61.62</td>\n",
              "      <td>12.36</td>\n",
              "      <td>43.80</td>\n",
              "      <td>37.35</td>\n",
              "      <td>50.76</td>\n",
              "      <td>50.31</td>\n",
              "      <td>42.93</td>\n",
              "      <td>12.39</td>\n",
              "      <td>0.42</td>\n",
              "      <td>0.00</td>\n",
              "      <td>0.0</td>\n",
              "      <td>2.55</td>\n",
              "      <td>0.00</td>\n",
              "      <td>0.0</td>\n",
              "      <td>0.0</td>\n",
              "      <td>7.89</td>\n",
              "      <td>4.71</td>\n",
              "      <td>0.0</td>\n",
              "      <td>0.0</td>\n",
              "      <td>0.00</td>\n",
              "      <td>2.13</td>\n",
              "      <td>11.07</td>\n",
              "      <td>9.60</td>\n",
              "      <td>2.31</td>\n",
              "      <td>18.81</td>\n",
              "      <td>9.84</td>\n",
              "      <td>20.85</td>\n",
              "      <td>94.62</td>\n",
              "      <td>30.87</td>\n",
              "      <td>1.23</td>\n",
              "      <td>11.97</td>\n",
              "      <td>0.0</td>\n",
              "      <td>0.0</td>\n",
              "      <td>0.0</td>\n",
              "      <td>0.0</td>\n",
              "      <td>0.00</td>\n",
              "    </tr>\n",
              "    <tr>\n",
              "      <th>5.625</th>\n",
              "      <td>6.24</td>\n",
              "      <td>9.60</td>\n",
              "      <td>0.0</td>\n",
              "      <td>0.00</td>\n",
              "      <td>28.95</td>\n",
              "      <td>26.64</td>\n",
              "      <td>10.56</td>\n",
              "      <td>1.44</td>\n",
              "      <td>3.84</td>\n",
              "      <td>31.47</td>\n",
              "      <td>95.10</td>\n",
              "      <td>44.16</td>\n",
              "      <td>0.36</td>\n",
              "      <td>11.40</td>\n",
              "      <td>1.68</td>\n",
              "      <td>3.63</td>\n",
              "      <td>0.90</td>\n",
              "      <td>0.00</td>\n",
              "      <td>72.99</td>\n",
              "      <td>13.92</td>\n",
              "      <td>19.62</td>\n",
              "      <td>5.49</td>\n",
              "      <td>13.74</td>\n",
              "      <td>0.42</td>\n",
              "      <td>0.00</td>\n",
              "      <td>1.80</td>\n",
              "      <td>4.23</td>\n",
              "      <td>2.70</td>\n",
              "      <td>0.00</td>\n",
              "      <td>0.27</td>\n",
              "      <td>0.03</td>\n",
              "      <td>0.96</td>\n",
              "      <td>0.27</td>\n",
              "      <td>4.95</td>\n",
              "      <td>1.11</td>\n",
              "      <td>0.00</td>\n",
              "      <td>0.0</td>\n",
              "      <td>0.0</td>\n",
              "      <td>0.0</td>\n",
              "      <td>0.06</td>\n",
              "      <td>...</td>\n",
              "      <td>2.94</td>\n",
              "      <td>21.36</td>\n",
              "      <td>12.90</td>\n",
              "      <td>0.00</td>\n",
              "      <td>62.55</td>\n",
              "      <td>9.36</td>\n",
              "      <td>46.14</td>\n",
              "      <td>33.27</td>\n",
              "      <td>52.86</td>\n",
              "      <td>60.36</td>\n",
              "      <td>47.97</td>\n",
              "      <td>29.76</td>\n",
              "      <td>0.63</td>\n",
              "      <td>2.19</td>\n",
              "      <td>0.0</td>\n",
              "      <td>5.19</td>\n",
              "      <td>1.20</td>\n",
              "      <td>0.0</td>\n",
              "      <td>0.0</td>\n",
              "      <td>4.47</td>\n",
              "      <td>2.31</td>\n",
              "      <td>0.0</td>\n",
              "      <td>0.0</td>\n",
              "      <td>0.00</td>\n",
              "      <td>5.49</td>\n",
              "      <td>17.07</td>\n",
              "      <td>12.24</td>\n",
              "      <td>3.00</td>\n",
              "      <td>20.07</td>\n",
              "      <td>8.97</td>\n",
              "      <td>40.38</td>\n",
              "      <td>66.93</td>\n",
              "      <td>22.80</td>\n",
              "      <td>1.38</td>\n",
              "      <td>18.87</td>\n",
              "      <td>0.0</td>\n",
              "      <td>0.0</td>\n",
              "      <td>0.0</td>\n",
              "      <td>0.0</td>\n",
              "      <td>0.00</td>\n",
              "    </tr>\n",
              "    <tr>\n",
              "      <th>5.875</th>\n",
              "      <td>14.52</td>\n",
              "      <td>18.66</td>\n",
              "      <td>0.0</td>\n",
              "      <td>0.00</td>\n",
              "      <td>24.78</td>\n",
              "      <td>29.46</td>\n",
              "      <td>10.29</td>\n",
              "      <td>0.00</td>\n",
              "      <td>7.44</td>\n",
              "      <td>22.68</td>\n",
              "      <td>78.81</td>\n",
              "      <td>55.05</td>\n",
              "      <td>1.59</td>\n",
              "      <td>5.04</td>\n",
              "      <td>1.14</td>\n",
              "      <td>3.33</td>\n",
              "      <td>0.84</td>\n",
              "      <td>0.06</td>\n",
              "      <td>48.57</td>\n",
              "      <td>13.59</td>\n",
              "      <td>23.76</td>\n",
              "      <td>9.15</td>\n",
              "      <td>20.28</td>\n",
              "      <td>0.27</td>\n",
              "      <td>1.29</td>\n",
              "      <td>0.60</td>\n",
              "      <td>5.04</td>\n",
              "      <td>4.83</td>\n",
              "      <td>0.51</td>\n",
              "      <td>0.00</td>\n",
              "      <td>0.45</td>\n",
              "      <td>0.27</td>\n",
              "      <td>0.27</td>\n",
              "      <td>11.28</td>\n",
              "      <td>0.66</td>\n",
              "      <td>0.06</td>\n",
              "      <td>0.0</td>\n",
              "      <td>0.0</td>\n",
              "      <td>0.0</td>\n",
              "      <td>0.24</td>\n",
              "      <td>...</td>\n",
              "      <td>1.86</td>\n",
              "      <td>13.83</td>\n",
              "      <td>28.56</td>\n",
              "      <td>0.69</td>\n",
              "      <td>58.02</td>\n",
              "      <td>13.05</td>\n",
              "      <td>37.20</td>\n",
              "      <td>22.14</td>\n",
              "      <td>45.63</td>\n",
              "      <td>45.75</td>\n",
              "      <td>61.95</td>\n",
              "      <td>22.83</td>\n",
              "      <td>1.65</td>\n",
              "      <td>2.13</td>\n",
              "      <td>0.0</td>\n",
              "      <td>12.15</td>\n",
              "      <td>1.02</td>\n",
              "      <td>0.0</td>\n",
              "      <td>0.0</td>\n",
              "      <td>0.00</td>\n",
              "      <td>2.07</td>\n",
              "      <td>0.0</td>\n",
              "      <td>0.0</td>\n",
              "      <td>0.93</td>\n",
              "      <td>6.57</td>\n",
              "      <td>15.90</td>\n",
              "      <td>22.80</td>\n",
              "      <td>0.81</td>\n",
              "      <td>26.73</td>\n",
              "      <td>11.34</td>\n",
              "      <td>34.77</td>\n",
              "      <td>48.99</td>\n",
              "      <td>19.80</td>\n",
              "      <td>2.16</td>\n",
              "      <td>10.89</td>\n",
              "      <td>0.0</td>\n",
              "      <td>0.0</td>\n",
              "      <td>0.0</td>\n",
              "      <td>0.0</td>\n",
              "      <td>0.00</td>\n",
              "    </tr>\n",
              "  </tbody>\n",
              "</table>\n",
              "<p>5 rows × 8031 columns</p>\n",
              "</div>"
            ],
            "text/plain": [
              "              1998-01-01  1998-01-02  ...  2019-12-29  2019-12-30\n",
              "59.875 4.875       21.69        2.55  ...         0.0        0.48\n",
              "       5.125       17.79        6.75  ...         0.0        0.18\n",
              "       5.375       10.92        5.88  ...         0.0        0.00\n",
              "       5.625        6.24        9.60  ...         0.0        0.00\n",
              "       5.875       14.52       18.66  ...         0.0        0.00\n",
              "\n",
              "[5 rows x 8031 columns]"
            ]
          },
          "metadata": {
            "tags": []
          },
          "execution_count": 4
        }
      ]
    },
    {
      "cell_type": "markdown",
      "metadata": {
        "id": "tRnE_HgRBhfg"
      },
      "source": [
        "######Description of Data\r\n",
        "\r\n",
        "We can get the timeseries of any day by like this"
      ]
    },
    {
      "cell_type": "code",
      "metadata": {
        "colab": {
          "base_uri": "https://localhost:8080/"
        },
        "id": "PsOJkaT3sPiN",
        "outputId": "2d7bd30a-b8cc-419e-e5f2-39d12343029e"
      },
      "source": [
        "## Find data for lat-lon\n",
        "Global.loc[(59.875,4.875)]"
      ],
      "execution_count": 5,
      "outputs": [
        {
          "output_type": "execute_result",
          "data": {
            "text/plain": [
              "1998-01-01    21.69\n",
              "1998-01-02     2.55\n",
              "1998-01-03     0.00\n",
              "1998-01-04     2.34\n",
              "1998-01-05    93.72\n",
              "              ...  \n",
              "2019-12-26     0.00\n",
              "2019-12-27     0.00\n",
              "2019-12-28     0.00\n",
              "2019-12-29     0.00\n",
              "2019-12-30     0.48\n",
              "Name: (59.875, 4.875), Length: 8031, dtype: float64"
            ]
          },
          "metadata": {
            "tags": []
          },
          "execution_count": 5
        }
      ]
    },
    {
      "cell_type": "markdown",
      "metadata": {
        "id": "SRS4MkOYB78R"
      },
      "source": [
        "#### Automatic Latitude-Longitude Generation\r\n",
        "\r\n",
        "Dataframe is generated automatically if Location name/ co-ordinates are provided. Manual option is also included."
      ]
    },
    {
      "cell_type": "code",
      "metadata": {
        "id": "CDbcGdeVbOOi"
      },
      "source": [
        "def get_city_coordinates():\r\n",
        "  from geopy.geocoders import Nominatim\r\n",
        "  geolocator = Nominatim(user_agent=\"my_user_agent\")\r\n",
        "  city =input('**HIT ENTER for Manual Mode **OR**\\nEnter Location As \"City\" or \"City, Country\" format: ')\r\n",
        "  country =\"\"\r\n",
        "  loc = geolocator.geocode(city+','+ country)\r\n",
        "  print(\"latitude is \" ,loc.latitude,\"&longtitude is \" ,loc.longitude)\r\n",
        "  return loc.latitude,loc.longitude"
      ],
      "execution_count": 6,
      "outputs": []
    },
    {
      "cell_type": "code",
      "metadata": {
        "id": "JByPb1VGsPiO"
      },
      "source": [
        "## Findout closest coordinates wrt to available data\n",
        "def closest(pos):\n",
        "    latitude = pos[0] \n",
        "    longitude = pos[1]\n",
        "    lat = [59.875 + 0.25*x for x in range(161)]\n",
        "    lon = [4.875 + 0.25*x for x in range(121)]\n",
        "    LAT = lat[min(range(len(lat)), key = lambda i: abs(lat[i]-latitude))] \n",
        "    LON = lon[min(range(len(lon)), key = lambda i: abs(lon[i]-longitude))] \n",
        "    if (abs(latitude-LAT) > 1) or (abs(longitude-LON)>1):\n",
        "        return 0\n",
        "    return (LAT,LON)"
      ],
      "execution_count": 7,
      "outputs": []
    },
    {
      "cell_type": "code",
      "metadata": {
        "id": "NjGzBaYisPiO"
      },
      "source": [
        "## Handles error and facilitates manual insersion\n",
        "def GetLocation():\n",
        "  try:\n",
        "    x = closest(get_city_coordinates())\n",
        "  except AttributeError:\n",
        "    print(\"\\nEntering Manual Mode\")\n",
        "    def Manual():\n",
        "      # nonlocal x\n",
        "      lat = float(input(\"Enter Latitude: \"))\n",
        "      lon = float(input(\"Enter Longitude: \"))\n",
        "      y = closest((lat,lon))\n",
        "      if y==0:\n",
        "        print('No Data Found, Try Again with other locations\\n')\n",
        "        y = Manual()\n",
        "      # else:\n",
        "      #   # print(y)\n",
        "      return y\n",
        "    x = Manual()\n",
        "    # print(x)\n",
        "\n",
        "  finally:\n",
        "    if x==0:\n",
        "        print('No Data Found for this City. Try Again with other Cities.\\n')\n",
        "        df = GetLocation()\n",
        "    else:\n",
        "        df = pd.DataFrame(Global.loc[x])\n",
        "        print(f\"Table Created with nearest co-ordinates: {x}\")\n",
        "        df.columns = ['Rainfall']\n",
        "        display(df)\n",
        "    return df"
      ],
      "execution_count": 8,
      "outputs": []
    },
    {
      "cell_type": "code",
      "metadata": {
        "colab": {
          "base_uri": "https://localhost:8080/",
          "height": 777
        },
        "id": "8gCSg9ypsPiP",
        "outputId": "4bdec740-a7f4-4f24-e5dd-cbbe102a972e"
      },
      "source": [
        "## Run this function to create DataFrame\r\n",
        "df = GetLocation()\r\n",
        "df.plot(figsize=(25,5))"
      ],
      "execution_count": 9,
      "outputs": [
        {
          "output_type": "stream",
          "text": [
            "**HIT ENTER for Manual Mode **OR**\n",
            "Enter Location As \"City\" or \"City, Country\" format: Stockholm, Switzerland\n",
            "latitude is  59.3461985 &longtitude is  18.0679891\n",
            "Table Created with nearest co-ordinates: (59.875, 18.125)\n"
          ],
          "name": "stdout"
        },
        {
          "output_type": "display_data",
          "data": {
            "text/html": [
              "<div>\n",
              "<style scoped>\n",
              "    .dataframe tbody tr th:only-of-type {\n",
              "        vertical-align: middle;\n",
              "    }\n",
              "\n",
              "    .dataframe tbody tr th {\n",
              "        vertical-align: top;\n",
              "    }\n",
              "\n",
              "    .dataframe thead th {\n",
              "        text-align: right;\n",
              "    }\n",
              "</style>\n",
              "<table border=\"1\" class=\"dataframe\">\n",
              "  <thead>\n",
              "    <tr style=\"text-align: right;\">\n",
              "      <th></th>\n",
              "      <th>Rainfall</th>\n",
              "    </tr>\n",
              "  </thead>\n",
              "  <tbody>\n",
              "    <tr>\n",
              "      <th>1998-01-01</th>\n",
              "      <td>0.00</td>\n",
              "    </tr>\n",
              "    <tr>\n",
              "      <th>1998-01-02</th>\n",
              "      <td>0.00</td>\n",
              "    </tr>\n",
              "    <tr>\n",
              "      <th>1998-01-03</th>\n",
              "      <td>0.00</td>\n",
              "    </tr>\n",
              "    <tr>\n",
              "      <th>1998-01-04</th>\n",
              "      <td>0.00</td>\n",
              "    </tr>\n",
              "    <tr>\n",
              "      <th>1998-01-05</th>\n",
              "      <td>0.18</td>\n",
              "    </tr>\n",
              "    <tr>\n",
              "      <th>...</th>\n",
              "      <td>...</td>\n",
              "    </tr>\n",
              "    <tr>\n",
              "      <th>2019-12-26</th>\n",
              "      <td>6.69</td>\n",
              "    </tr>\n",
              "    <tr>\n",
              "      <th>2019-12-27</th>\n",
              "      <td>4.98</td>\n",
              "    </tr>\n",
              "    <tr>\n",
              "      <th>2019-12-28</th>\n",
              "      <td>21.78</td>\n",
              "    </tr>\n",
              "    <tr>\n",
              "      <th>2019-12-29</th>\n",
              "      <td>0.00</td>\n",
              "    </tr>\n",
              "    <tr>\n",
              "      <th>2019-12-30</th>\n",
              "      <td>0.00</td>\n",
              "    </tr>\n",
              "  </tbody>\n",
              "</table>\n",
              "<p>8031 rows × 1 columns</p>\n",
              "</div>"
            ],
            "text/plain": [
              "            Rainfall\n",
              "1998-01-01      0.00\n",
              "1998-01-02      0.00\n",
              "1998-01-03      0.00\n",
              "1998-01-04      0.00\n",
              "1998-01-05      0.18\n",
              "...              ...\n",
              "2019-12-26      6.69\n",
              "2019-12-27      4.98\n",
              "2019-12-28     21.78\n",
              "2019-12-29      0.00\n",
              "2019-12-30      0.00\n",
              "\n",
              "[8031 rows x 1 columns]"
            ]
          },
          "metadata": {
            "tags": []
          }
        },
        {
          "output_type": "execute_result",
          "data": {
            "text/plain": [
              "<matplotlib.axes._subplots.AxesSubplot at 0x7f64e2fe1290>"
            ]
          },
          "metadata": {
            "tags": []
          },
          "execution_count": 9
        },
        {
          "output_type": "display_data",
          "data": {
            "image/png": "[encoded data removed]",
            "text/plain": [
              "<Figure size 1800x360 with 1 Axes>"
            ]
          },
          "metadata": {
            "tags": [],
            "needs_background": "light"
          }
        }
      ]
    },
    {
      "cell_type": "markdown",
      "metadata": {
        "id": "z-_tf5BRsPiR"
      },
      "source": [
        "## MODEL 1: Using FB Prophet"
      ]
    },
    {
      "cell_type": "code",
      "metadata": {
        "id": "f_KEgmEnsPiR"
      },
      "source": [
        "from fbprophet import Prophet"
      ],
      "execution_count": 10,
      "outputs": []
    },
    {
      "cell_type": "code",
      "metadata": {
        "id": "-DKaM5YZsPiR"
      },
      "source": [
        "model=Prophet(yearly_seasonality=True, weekly_seasonality=True)"
      ],
      "execution_count": 11,
      "outputs": []
    },
    {
      "cell_type": "code",
      "metadata": {
        "colab": {
          "base_uri": "https://localhost:8080/",
          "height": 206
        },
        "id": "HRtJ0Hf3sPiT",
        "outputId": "f620ad81-acb5-40c2-f6f5-ddd5e3d381f8"
      },
      "source": [
        "df_fb = df.reset_index()\n",
        "df_fb.columns = ['ds','y']\n",
        "df_fb.head()"
      ],
      "execution_count": 12,
      "outputs": [
        {
          "output_type": "execute_result",
          "data": {
            "text/html": [
              "<div>\n",
              "<style scoped>\n",
              "    .dataframe tbody tr th:only-of-type {\n",
              "        vertical-align: middle;\n",
              "    }\n",
              "\n",
              "    .dataframe tbody tr th {\n",
              "        vertical-align: top;\n",
              "    }\n",
              "\n",
              "    .dataframe thead th {\n",
              "        text-align: right;\n",
              "    }\n",
              "</style>\n",
              "<table border=\"1\" class=\"dataframe\">\n",
              "  <thead>\n",
              "    <tr style=\"text-align: right;\">\n",
              "      <th></th>\n",
              "      <th>ds</th>\n",
              "      <th>y</th>\n",
              "    </tr>\n",
              "  </thead>\n",
              "  <tbody>\n",
              "    <tr>\n",
              "      <th>0</th>\n",
              "      <td>1998-01-01</td>\n",
              "      <td>0.00</td>\n",
              "    </tr>\n",
              "    <tr>\n",
              "      <th>1</th>\n",
              "      <td>1998-01-02</td>\n",
              "      <td>0.00</td>\n",
              "    </tr>\n",
              "    <tr>\n",
              "      <th>2</th>\n",
              "      <td>1998-01-03</td>\n",
              "      <td>0.00</td>\n",
              "    </tr>\n",
              "    <tr>\n",
              "      <th>3</th>\n",
              "      <td>1998-01-04</td>\n",
              "      <td>0.00</td>\n",
              "    </tr>\n",
              "    <tr>\n",
              "      <th>4</th>\n",
              "      <td>1998-01-05</td>\n",
              "      <td>0.18</td>\n",
              "    </tr>\n",
              "  </tbody>\n",
              "</table>\n",
              "</div>"
            ],
            "text/plain": [
              "           ds     y\n",
              "0  1998-01-01  0.00\n",
              "1  1998-01-02  0.00\n",
              "2  1998-01-03  0.00\n",
              "3  1998-01-04  0.00\n",
              "4  1998-01-05  0.18"
            ]
          },
          "metadata": {
            "tags": []
          },
          "execution_count": 12
        }
      ]
    },
    {
      "cell_type": "code",
      "metadata": {
        "colab": {
          "base_uri": "https://localhost:8080/"
        },
        "id": "V7hDfR6isPiT",
        "outputId": "c2023ba0-4987-4d01-848a-2ca4ff78091c"
      },
      "source": [
        "df_fb.info()"
      ],
      "execution_count": 13,
      "outputs": [
        {
          "output_type": "stream",
          "text": [
            "<class 'pandas.core.frame.DataFrame'>\n",
            "RangeIndex: 8031 entries, 0 to 8030\n",
            "Data columns (total 2 columns):\n",
            " #   Column  Non-Null Count  Dtype  \n",
            "---  ------  --------------  -----  \n",
            " 0   ds      8031 non-null   object \n",
            " 1   y       8031 non-null   float64\n",
            "dtypes: float64(1), object(1)\n",
            "memory usage: 125.6+ KB\n"
          ],
          "name": "stdout"
        }
      ]
    },
    {
      "cell_type": "code",
      "metadata": {
        "colab": {
          "base_uri": "https://localhost:8080/"
        },
        "id": "Dk3JWsrSsPiU",
        "outputId": "b3225b85-059e-4b6e-dbad-33e56a739624"
      },
      "source": [
        "model.fit(df_fb)"
      ],
      "execution_count": 14,
      "outputs": [
        {
          "output_type": "stream",
          "text": [
            "INFO:numexpr.utils:NumExpr defaulting to 2 threads.\n",
            "INFO:fbprophet:Disabling daily seasonality. Run prophet with daily_seasonality=True to override this.\n"
          ],
          "name": "stderr"
        },
        {
          "output_type": "execute_result",
          "data": {
            "text/plain": [
              "<fbprophet.forecaster.Prophet at 0x7f64e6007d10>"
            ]
          },
          "metadata": {
            "tags": []
          },
          "execution_count": 14
        }
      ]
    },
    {
      "cell_type": "code",
      "metadata": {
        "colab": {
          "base_uri": "https://localhost:8080/"
        },
        "id": "WxhDhJVJsPiV",
        "outputId": "2367356e-b2f0-46ad-afcc-219093f527a1"
      },
      "source": [
        "model.component_modes"
      ],
      "execution_count": 15,
      "outputs": [
        {
          "output_type": "execute_result",
          "data": {
            "text/plain": [
              "{'additive': ['yearly',\n",
              "  'weekly',\n",
              "  'additive_terms',\n",
              "  'extra_regressors_additive',\n",
              "  'holidays'],\n",
              " 'multiplicative': ['multiplicative_terms', 'extra_regressors_multiplicative']}"
            ]
          },
          "metadata": {
            "tags": []
          },
          "execution_count": 15
        }
      ]
    },
    {
      "cell_type": "code",
      "metadata": {
        "id": "WdUiuGfhsPiV"
      },
      "source": [
        "future_dates=model.make_future_dataframe(periods=365)"
      ],
      "execution_count": 16,
      "outputs": []
    },
    {
      "cell_type": "code",
      "metadata": {
        "colab": {
          "base_uri": "https://localhost:8080/",
          "height": 206
        },
        "id": "psXwqpl1sPiW",
        "outputId": "57b1079f-8db6-436a-c99b-9b5b4923b88d"
      },
      "source": [
        "future_dates.tail()"
      ],
      "execution_count": 17,
      "outputs": [
        {
          "output_type": "execute_result",
          "data": {
            "text/html": [
              "<div>\n",
              "<style scoped>\n",
              "    .dataframe tbody tr th:only-of-type {\n",
              "        vertical-align: middle;\n",
              "    }\n",
              "\n",
              "    .dataframe tbody tr th {\n",
              "        vertical-align: top;\n",
              "    }\n",
              "\n",
              "    .dataframe thead th {\n",
              "        text-align: right;\n",
              "    }\n",
              "</style>\n",
              "<table border=\"1\" class=\"dataframe\">\n",
              "  <thead>\n",
              "    <tr style=\"text-align: right;\">\n",
              "      <th></th>\n",
              "      <th>ds</th>\n",
              "    </tr>\n",
              "  </thead>\n",
              "  <tbody>\n",
              "    <tr>\n",
              "      <th>8391</th>\n",
              "      <td>2020-12-25</td>\n",
              "    </tr>\n",
              "    <tr>\n",
              "      <th>8392</th>\n",
              "      <td>2020-12-26</td>\n",
              "    </tr>\n",
              "    <tr>\n",
              "      <th>8393</th>\n",
              "      <td>2020-12-27</td>\n",
              "    </tr>\n",
              "    <tr>\n",
              "      <th>8394</th>\n",
              "      <td>2020-12-28</td>\n",
              "    </tr>\n",
              "    <tr>\n",
              "      <th>8395</th>\n",
              "      <td>2020-12-29</td>\n",
              "    </tr>\n",
              "  </tbody>\n",
              "</table>\n",
              "</div>"
            ],
            "text/plain": [
              "             ds\n",
              "8391 2020-12-25\n",
              "8392 2020-12-26\n",
              "8393 2020-12-27\n",
              "8394 2020-12-28\n",
              "8395 2020-12-29"
            ]
          },
          "metadata": {
            "tags": []
          },
          "execution_count": 17
        }
      ]
    },
    {
      "cell_type": "code",
      "metadata": {
        "colab": {
          "base_uri": "https://localhost:8080/",
          "height": 226
        },
        "id": "F6INc6kEsPiW",
        "outputId": "eaff6c2a-536d-4cb4-9760-708fd4413114"
      },
      "source": [
        "prediction=model.predict(future_dates)\n",
        "prediction.head()"
      ],
      "execution_count": 18,
      "outputs": [
        {
          "output_type": "execute_result",
          "data": {
            "text/html": [
              "<div>\n",
              "<style scoped>\n",
              "    .dataframe tbody tr th:only-of-type {\n",
              "        vertical-align: middle;\n",
              "    }\n",
              "\n",
              "    .dataframe tbody tr th {\n",
              "        vertical-align: top;\n",
              "    }\n",
              "\n",
              "    .dataframe thead th {\n",
              "        text-align: right;\n",
              "    }\n",
              "</style>\n",
              "<table border=\"1\" class=\"dataframe\">\n",
              "  <thead>\n",
              "    <tr style=\"text-align: right;\">\n",
              "      <th></th>\n",
              "      <th>ds</th>\n",
              "      <th>trend</th>\n",
              "      <th>yhat_lower</th>\n",
              "      <th>yhat_upper</th>\n",
              "      <th>trend_lower</th>\n",
              "      <th>trend_upper</th>\n",
              "      <th>additive_terms</th>\n",
              "      <th>additive_terms_lower</th>\n",
              "      <th>additive_terms_upper</th>\n",
              "      <th>weekly</th>\n",
              "      <th>weekly_lower</th>\n",
              "      <th>weekly_upper</th>\n",
              "      <th>yearly</th>\n",
              "      <th>yearly_lower</th>\n",
              "      <th>yearly_upper</th>\n",
              "      <th>multiplicative_terms</th>\n",
              "      <th>multiplicative_terms_lower</th>\n",
              "      <th>multiplicative_terms_upper</th>\n",
              "      <th>yhat</th>\n",
              "    </tr>\n",
              "  </thead>\n",
              "  <tbody>\n",
              "    <tr>\n",
              "      <th>0</th>\n",
              "      <td>1998-01-01</td>\n",
              "      <td>0.277002</td>\n",
              "      <td>-7.012988</td>\n",
              "      <td>6.764101</td>\n",
              "      <td>0.277002</td>\n",
              "      <td>0.277002</td>\n",
              "      <td>-0.185114</td>\n",
              "      <td>-0.185114</td>\n",
              "      <td>-0.185114</td>\n",
              "      <td>-0.055200</td>\n",
              "      <td>-0.055200</td>\n",
              "      <td>-0.055200</td>\n",
              "      <td>-0.129914</td>\n",
              "      <td>-0.129914</td>\n",
              "      <td>-0.129914</td>\n",
              "      <td>0.0</td>\n",
              "      <td>0.0</td>\n",
              "      <td>0.0</td>\n",
              "      <td>0.091887</td>\n",
              "    </tr>\n",
              "    <tr>\n",
              "      <th>1</th>\n",
              "      <td>1998-01-02</td>\n",
              "      <td>0.276941</td>\n",
              "      <td>-6.741771</td>\n",
              "      <td>7.075978</td>\n",
              "      <td>0.276941</td>\n",
              "      <td>0.276941</td>\n",
              "      <td>-0.225468</td>\n",
              "      <td>-0.225468</td>\n",
              "      <td>-0.225468</td>\n",
              "      <td>-0.060442</td>\n",
              "      <td>-0.060442</td>\n",
              "      <td>-0.060442</td>\n",
              "      <td>-0.165027</td>\n",
              "      <td>-0.165027</td>\n",
              "      <td>-0.165027</td>\n",
              "      <td>0.0</td>\n",
              "      <td>0.0</td>\n",
              "      <td>0.0</td>\n",
              "      <td>0.051473</td>\n",
              "    </tr>\n",
              "    <tr>\n",
              "      <th>2</th>\n",
              "      <td>1998-01-03</td>\n",
              "      <td>0.276881</td>\n",
              "      <td>-6.836158</td>\n",
              "      <td>7.311022</td>\n",
              "      <td>0.276881</td>\n",
              "      <td>0.276881</td>\n",
              "      <td>-0.310386</td>\n",
              "      <td>-0.310386</td>\n",
              "      <td>-0.310386</td>\n",
              "      <td>-0.112120</td>\n",
              "      <td>-0.112120</td>\n",
              "      <td>-0.112120</td>\n",
              "      <td>-0.198266</td>\n",
              "      <td>-0.198266</td>\n",
              "      <td>-0.198266</td>\n",
              "      <td>0.0</td>\n",
              "      <td>0.0</td>\n",
              "      <td>0.0</td>\n",
              "      <td>-0.033506</td>\n",
              "    </tr>\n",
              "    <tr>\n",
              "      <th>3</th>\n",
              "      <td>1998-01-04</td>\n",
              "      <td>0.276820</td>\n",
              "      <td>-7.204853</td>\n",
              "      <td>6.824062</td>\n",
              "      <td>0.276820</td>\n",
              "      <td>0.276820</td>\n",
              "      <td>-0.296450</td>\n",
              "      <td>-0.296450</td>\n",
              "      <td>-0.296450</td>\n",
              "      <td>-0.067545</td>\n",
              "      <td>-0.067545</td>\n",
              "      <td>-0.067545</td>\n",
              "      <td>-0.228905</td>\n",
              "      <td>-0.228905</td>\n",
              "      <td>-0.228905</td>\n",
              "      <td>0.0</td>\n",
              "      <td>0.0</td>\n",
              "      <td>0.0</td>\n",
              "      <td>-0.019630</td>\n",
              "    </tr>\n",
              "    <tr>\n",
              "      <th>4</th>\n",
              "      <td>1998-01-05</td>\n",
              "      <td>0.276760</td>\n",
              "      <td>-6.958475</td>\n",
              "      <td>7.519706</td>\n",
              "      <td>0.276760</td>\n",
              "      <td>0.276760</td>\n",
              "      <td>-0.211354</td>\n",
              "      <td>-0.211354</td>\n",
              "      <td>-0.211354</td>\n",
              "      <td>0.044958</td>\n",
              "      <td>0.044958</td>\n",
              "      <td>0.044958</td>\n",
              "      <td>-0.256312</td>\n",
              "      <td>-0.256312</td>\n",
              "      <td>-0.256312</td>\n",
              "      <td>0.0</td>\n",
              "      <td>0.0</td>\n",
              "      <td>0.0</td>\n",
              "      <td>0.065406</td>\n",
              "    </tr>\n",
              "  </tbody>\n",
              "</table>\n",
              "</div>"
            ],
            "text/plain": [
              "          ds     trend  ...  multiplicative_terms_upper      yhat\n",
              "0 1998-01-01  0.277002  ...                         0.0  0.091887\n",
              "1 1998-01-02  0.276941  ...                         0.0  0.051473\n",
              "2 1998-01-03  0.276881  ...                         0.0 -0.033506\n",
              "3 1998-01-04  0.276820  ...                         0.0 -0.019630\n",
              "4 1998-01-05  0.276760  ...                         0.0  0.065406\n",
              "\n",
              "[5 rows x 19 columns]"
            ]
          },
          "metadata": {
            "tags": []
          },
          "execution_count": 18
        }
      ]
    },
    {
      "cell_type": "code",
      "metadata": {
        "id": "l-8GEyIjsPiW"
      },
      "source": [
        "# model.plot(prediction)"
      ],
      "execution_count": 19,
      "outputs": []
    },
    {
      "cell_type": "code",
      "metadata": {
        "colab": {
          "base_uri": "https://localhost:8080/",
          "height": 492
        },
        "id": "eRVmbnFsIa1Z",
        "outputId": "c5057bfc-c10c-40e8-cd03-bb231f4341c1"
      },
      "source": [
        "fig = model.plot(prediction, xlabel='Date', ylabel='Rainfall Rate')\r\n",
        "ax = fig.gca()\r\n",
        "ax.set_title(\"Prediction for ONE YEAR after 2019\", size=34)"
      ],
      "execution_count": 20,
      "outputs": [
        {
          "output_type": "execute_result",
          "data": {
            "text/plain": [
              "Text(0.5, 1.0, 'Prediction for ONE YEAR after 2018')"
            ]
          },
          "metadata": {
            "tags": []
          },
          "execution_count": 20
        },
        {
          "output_type": "display_data",
          "data": {
            "image/png": "[encoded data removed]",
            "text/plain": [
              "<Figure size 720x432 with 1 Axes>"
            ]
          },
          "metadata": {
            "tags": []
          }
        }
      ]
    },
    {
      "cell_type": "code",
      "metadata": {
        "colab": {
          "base_uri": "https://localhost:8080/",
          "height": 1000
        },
        "id": "KeMF5z2HsPiX",
        "outputId": "9909b49e-620f-4550-f601-ffa25db41721"
      },
      "source": [
        "### plot the predicted projection\n",
        "model.plot_components(prediction)"
      ],
      "execution_count": 21,
      "outputs": [
        {
          "output_type": "execute_result",
          "data": {
            "image/png": "[encoded data removed]",
            "text/plain": [
              "<Figure size 648x648 with 3 Axes>"
            ]
          },
          "metadata": {
            "tags": []
          },
          "execution_count": 21
        },
        {
          "output_type": "display_data",
          "data": {
            "image/png": "[encoded data removed]",
            "text/plain": [
              "<Figure size 648x648 with 3 Axes>"
            ]
          },
          "metadata": {
            "tags": []
          }
        }
      ]
    },
    {
      "cell_type": "markdown",
      "metadata": {
        "id": "P4V7qpFu4oU6"
      },
      "source": [
        "### Weekly Prediction for another one year"
      ]
    },
    {
      "cell_type": "code",
      "metadata": {
        "id": "hTvONZ_rsPia"
      },
      "source": [
        "from datetime import datetime\r\n",
        "weekly = df_fb\r\n",
        "weekly['ds'] = weekly['ds'].astype('datetime64[ns]')\r\n",
        "#convert daily data to weekly\r\n",
        "weekly_data = weekly.resample('W-Wed', label='right', closed = 'right', on='ds').mean().reset_index().sort_values(by='ds')"
      ],
      "execution_count": 22,
      "outputs": []
    },
    {
      "cell_type": "code",
      "metadata": {
        "colab": {
          "base_uri": "https://localhost:8080/",
          "height": 424
        },
        "id": "pcrlnb7PvsYy",
        "outputId": "6b3dff81-60e0-4085-d132-2317307ccaa8"
      },
      "source": [
        "weekly_data"
      ],
      "execution_count": 23,
      "outputs": [
        {
          "output_type": "execute_result",
          "data": {
            "text/html": [
              "<div>\n",
              "<style scoped>\n",
              "    .dataframe tbody tr th:only-of-type {\n",
              "        vertical-align: middle;\n",
              "    }\n",
              "\n",
              "    .dataframe tbody tr th {\n",
              "        vertical-align: top;\n",
              "    }\n",
              "\n",
              "    .dataframe thead th {\n",
              "        text-align: right;\n",
              "    }\n",
              "</style>\n",
              "<table border=\"1\" class=\"dataframe\">\n",
              "  <thead>\n",
              "    <tr style=\"text-align: right;\">\n",
              "      <th></th>\n",
              "      <th>ds</th>\n",
              "      <th>y</th>\n",
              "    </tr>\n",
              "  </thead>\n",
              "  <tbody>\n",
              "    <tr>\n",
              "      <th>0</th>\n",
              "      <td>1998-01-07</td>\n",
              "      <td>0.025714</td>\n",
              "    </tr>\n",
              "    <tr>\n",
              "      <th>1</th>\n",
              "      <td>1998-01-14</td>\n",
              "      <td>0.034286</td>\n",
              "    </tr>\n",
              "    <tr>\n",
              "      <th>2</th>\n",
              "      <td>1998-01-21</td>\n",
              "      <td>0.030000</td>\n",
              "    </tr>\n",
              "    <tr>\n",
              "      <th>3</th>\n",
              "      <td>1998-01-28</td>\n",
              "      <td>0.000000</td>\n",
              "    </tr>\n",
              "    <tr>\n",
              "      <th>4</th>\n",
              "      <td>1998-02-04</td>\n",
              "      <td>0.000000</td>\n",
              "    </tr>\n",
              "    <tr>\n",
              "      <th>...</th>\n",
              "      <td>...</td>\n",
              "      <td>...</td>\n",
              "    </tr>\n",
              "    <tr>\n",
              "      <th>1143</th>\n",
              "      <td>2019-12-04</td>\n",
              "      <td>1.590000</td>\n",
              "    </tr>\n",
              "    <tr>\n",
              "      <th>1144</th>\n",
              "      <td>2019-12-11</td>\n",
              "      <td>1.628571</td>\n",
              "    </tr>\n",
              "    <tr>\n",
              "      <th>1145</th>\n",
              "      <td>2019-12-18</td>\n",
              "      <td>0.000000</td>\n",
              "    </tr>\n",
              "    <tr>\n",
              "      <th>1146</th>\n",
              "      <td>2019-12-25</td>\n",
              "      <td>0.030000</td>\n",
              "    </tr>\n",
              "    <tr>\n",
              "      <th>1147</th>\n",
              "      <td>2020-01-01</td>\n",
              "      <td>6.690000</td>\n",
              "    </tr>\n",
              "  </tbody>\n",
              "</table>\n",
              "<p>1148 rows × 2 columns</p>\n",
              "</div>"
            ],
            "text/plain": [
              "             ds         y\n",
              "0    1998-01-07  0.025714\n",
              "1    1998-01-14  0.034286\n",
              "2    1998-01-21  0.030000\n",
              "3    1998-01-28  0.000000\n",
              "4    1998-02-04  0.000000\n",
              "...         ...       ...\n",
              "1143 2019-12-04  1.590000\n",
              "1144 2019-12-11  1.628571\n",
              "1145 2019-12-18  0.000000\n",
              "1146 2019-12-25  0.030000\n",
              "1147 2020-01-01  6.690000\n",
              "\n",
              "[1148 rows x 2 columns]"
            ]
          },
          "metadata": {
            "tags": []
          },
          "execution_count": 23
        }
      ]
    },
    {
      "cell_type": "code",
      "metadata": {
        "colab": {
          "base_uri": "https://localhost:8080/",
          "height": 478
        },
        "id": "VHG8pgM63NF2",
        "outputId": "d6d3480b-04e6-4e3a-ef48-bce2b82cabe3"
      },
      "source": [
        "m = Prophet(changepoint_prior_scale=0.01).fit(weekly_data)\r\n",
        "future = m.make_future_dataframe(periods=52, freq='H')\r\n",
        "fcst = m.predict(future)\r\n",
        "fig = m.plot(fcst)"
      ],
      "execution_count": 24,
      "outputs": [
        {
          "output_type": "stream",
          "text": [
            "INFO:fbprophet:Disabling weekly seasonality. Run prophet with weekly_seasonality=True to override this.\n",
            "INFO:fbprophet:Disabling daily seasonality. Run prophet with daily_seasonality=True to override this.\n"
          ],
          "name": "stderr"
        },
        {
          "output_type": "display_data",
          "data": {
            "image/png": "[encoded data removed]",
            "text/plain": [
              "<Figure size 720x432 with 1 Axes>"
            ]
          },
          "metadata": {
            "tags": []
          }
        }
      ]
    },
    {
      "cell_type": "code",
      "metadata": {
        "colab": {
          "base_uri": "https://localhost:8080/",
          "height": 441
        },
        "id": "CG9Ekjp83Pdj",
        "outputId": "0c8215be-2e8d-45a0-dd4b-fb85023c3fd7"
      },
      "source": [
        "fig = m.plot_components(fcst)"
      ],
      "execution_count": 25,
      "outputs": [
        {
          "output_type": "display_data",
          "data": {
            "image/png": "[encoded data removed]",
            "text/plain": [
              "<Figure size 648x432 with 2 Axes>"
            ]
          },
          "metadata": {
            "tags": []
          }
        }
      ]
    },
    {
      "cell_type": "markdown",
      "metadata": {
        "id": "Ocnv32lTNqbt"
      },
      "source": [
        "#### Testing Accuracy"
      ]
    },
    {
      "cell_type": "code",
      "metadata": {
        "colab": {
          "base_uri": "https://localhost:8080/",
          "height": 0,
          "referenced_widgets": [
            "fa5d432e2d7c47209e5066c25b01336c",
            "f21d8b19100b41b899873b50b3f4e86b",
            "4d6f68fc5fb34963b694f3bf287defa4",
            "4e9a3c1eceaf401fb4767b413e4d7e02",
            "ee347a597e144d5db9d277da22889b2e",
            "435615342e364f769faa95236822b22a",
            "470ff60da39840e0a6f58e20bee58c09",
            "c8c3f52748874d2b885353f794adaede"
          ]
        },
        "id": "PRXjOzm3sPiY",
        "outputId": "ca9b9069-d5ff-4056-f1eb-024046027061"
      },
      "source": [
        "from fbprophet.diagnostics import cross_validation\n",
        "df_cv = cross_validation(model, initial='7300 days', period='365 days', horizon = '400 days')\n",
        "df_cv.head()"
      ],
      "execution_count": 26,
      "outputs": [
        {
          "output_type": "stream",
          "text": [
            "INFO:fbprophet:Making 1 forecasts with cutoffs between 2018-11-25 00:00:00 and 2018-11-25 00:00:00\n"
          ],
          "name": "stderr"
        },
        {
          "output_type": "display_data",
          "data": {
            "application/vnd.jupyter.widget-view+json": {
              "model_id": "fa5d432e2d7c47209e5066c25b01336c",
              "version_minor": 0,
              "version_major": 2
            },
            "text/plain": [
              "HBox(children=(FloatProgress(value=0.0, max=1.0), HTML(value='')))"
            ]
          },
          "metadata": {
            "tags": []
          }
        },
        {
          "output_type": "stream",
          "text": [
            "\n"
          ],
          "name": "stdout"
        },
        {
          "output_type": "execute_result",
          "data": {
            "text/html": [
              "<div>\n",
              "<style scoped>\n",
              "    .dataframe tbody tr th:only-of-type {\n",
              "        vertical-align: middle;\n",
              "    }\n",
              "\n",
              "    .dataframe tbody tr th {\n",
              "        vertical-align: top;\n",
              "    }\n",
              "\n",
              "    .dataframe thead th {\n",
              "        text-align: right;\n",
              "    }\n",
              "</style>\n",
              "<table border=\"1\" class=\"dataframe\">\n",
              "  <thead>\n",
              "    <tr style=\"text-align: right;\">\n",
              "      <th></th>\n",
              "      <th>ds</th>\n",
              "      <th>yhat</th>\n",
              "      <th>yhat_lower</th>\n",
              "      <th>yhat_upper</th>\n",
              "      <th>y</th>\n",
              "      <th>cutoff</th>\n",
              "    </tr>\n",
              "  </thead>\n",
              "  <tbody>\n",
              "    <tr>\n",
              "      <th>0</th>\n",
              "      <td>2018-11-26</td>\n",
              "      <td>0.054271</td>\n",
              "      <td>-6.540906</td>\n",
              "      <td>7.749295</td>\n",
              "      <td>0.0</td>\n",
              "      <td>2018-11-25</td>\n",
              "    </tr>\n",
              "    <tr>\n",
              "      <th>1</th>\n",
              "      <td>2018-11-27</td>\n",
              "      <td>-0.100445</td>\n",
              "      <td>-6.828903</td>\n",
              "      <td>7.699467</td>\n",
              "      <td>0.0</td>\n",
              "      <td>2018-11-25</td>\n",
              "    </tr>\n",
              "    <tr>\n",
              "      <th>2</th>\n",
              "      <td>2018-11-28</td>\n",
              "      <td>0.189347</td>\n",
              "      <td>-6.887573</td>\n",
              "      <td>7.920443</td>\n",
              "      <td>0.0</td>\n",
              "      <td>2018-11-25</td>\n",
              "    </tr>\n",
              "    <tr>\n",
              "      <th>3</th>\n",
              "      <td>2018-11-29</td>\n",
              "      <td>-0.221743</td>\n",
              "      <td>-7.632771</td>\n",
              "      <td>7.141118</td>\n",
              "      <td>0.0</td>\n",
              "      <td>2018-11-25</td>\n",
              "    </tr>\n",
              "    <tr>\n",
              "      <th>4</th>\n",
              "      <td>2018-11-30</td>\n",
              "      <td>-0.252045</td>\n",
              "      <td>-6.868264</td>\n",
              "      <td>7.061415</td>\n",
              "      <td>0.0</td>\n",
              "      <td>2018-11-25</td>\n",
              "    </tr>\n",
              "  </tbody>\n",
              "</table>\n",
              "</div>"
            ],
            "text/plain": [
              "          ds      yhat  yhat_lower  yhat_upper    y     cutoff\n",
              "0 2018-11-26  0.054271   -6.540906    7.749295  0.0 2018-11-25\n",
              "1 2018-11-27 -0.100445   -6.828903    7.699467  0.0 2018-11-25\n",
              "2 2018-11-28  0.189347   -6.887573    7.920443  0.0 2018-11-25\n",
              "3 2018-11-29 -0.221743   -7.632771    7.141118  0.0 2018-11-25\n",
              "4 2018-11-30 -0.252045   -6.868264    7.061415  0.0 2018-11-25"
            ]
          },
          "metadata": {
            "tags": []
          },
          "execution_count": 26
        }
      ]
    },
    {
      "cell_type": "code",
      "metadata": {
        "colab": {
          "base_uri": "https://localhost:8080/",
          "height": 0
        },
        "id": "GVfytixusPiY",
        "outputId": "ffbbd227-4b38-48ec-dfef-da4f4891d933"
      },
      "source": [
        "from fbprophet.diagnostics import performance_metrics\n",
        "df_p = performance_metrics(df_cv)\n",
        "df_p.head()"
      ],
      "execution_count": 27,
      "outputs": [
        {
          "output_type": "stream",
          "text": [
            "INFO:fbprophet:Skipping MAPE because y close to 0\n"
          ],
          "name": "stderr"
        },
        {
          "output_type": "execute_result",
          "data": {
            "text/html": [
              "<div>\n",
              "<style scoped>\n",
              "    .dataframe tbody tr th:only-of-type {\n",
              "        vertical-align: middle;\n",
              "    }\n",
              "\n",
              "    .dataframe tbody tr th {\n",
              "        vertical-align: top;\n",
              "    }\n",
              "\n",
              "    .dataframe thead th {\n",
              "        text-align: right;\n",
              "    }\n",
              "</style>\n",
              "<table border=\"1\" class=\"dataframe\">\n",
              "  <thead>\n",
              "    <tr style=\"text-align: right;\">\n",
              "      <th></th>\n",
              "      <th>horizon</th>\n",
              "      <th>mse</th>\n",
              "      <th>rmse</th>\n",
              "      <th>mae</th>\n",
              "      <th>mdape</th>\n",
              "      <th>coverage</th>\n",
              "    </tr>\n",
              "  </thead>\n",
              "  <tbody>\n",
              "    <tr>\n",
              "      <th>0</th>\n",
              "      <td>40 days</td>\n",
              "      <td>0.158428</td>\n",
              "      <td>0.398031</td>\n",
              "      <td>0.264010</td>\n",
              "      <td>inf</td>\n",
              "      <td>1.0</td>\n",
              "    </tr>\n",
              "    <tr>\n",
              "      <th>1</th>\n",
              "      <td>41 days</td>\n",
              "      <td>0.158778</td>\n",
              "      <td>0.398470</td>\n",
              "      <td>0.265906</td>\n",
              "      <td>inf</td>\n",
              "      <td>1.0</td>\n",
              "    </tr>\n",
              "    <tr>\n",
              "      <th>2</th>\n",
              "      <td>42 days</td>\n",
              "      <td>0.158714</td>\n",
              "      <td>0.398389</td>\n",
              "      <td>0.265562</td>\n",
              "      <td>inf</td>\n",
              "      <td>1.0</td>\n",
              "    </tr>\n",
              "    <tr>\n",
              "      <th>3</th>\n",
              "      <td>43 days</td>\n",
              "      <td>0.157824</td>\n",
              "      <td>0.397271</td>\n",
              "      <td>0.261238</td>\n",
              "      <td>inf</td>\n",
              "      <td>1.0</td>\n",
              "    </tr>\n",
              "    <tr>\n",
              "      <th>4</th>\n",
              "      <td>44 days</td>\n",
              "      <td>0.156794</td>\n",
              "      <td>0.395972</td>\n",
              "      <td>0.257925</td>\n",
              "      <td>inf</td>\n",
              "      <td>1.0</td>\n",
              "    </tr>\n",
              "  </tbody>\n",
              "</table>\n",
              "</div>"
            ],
            "text/plain": [
              "  horizon       mse      rmse       mae  mdape  coverage\n",
              "0 40 days  0.158428  0.398031  0.264010    inf       1.0\n",
              "1 41 days  0.158778  0.398470  0.265906    inf       1.0\n",
              "2 42 days  0.158714  0.398389  0.265562    inf       1.0\n",
              "3 43 days  0.157824  0.397271  0.261238    inf       1.0\n",
              "4 44 days  0.156794  0.395972  0.257925    inf       1.0"
            ]
          },
          "metadata": {
            "tags": []
          },
          "execution_count": 27
        }
      ]
    },
    {
      "cell_type": "code",
      "metadata": {
        "colab": {
          "base_uri": "https://localhost:8080/",
          "height": 0
        },
        "id": "D-S1DKd6sPiZ",
        "outputId": "a071e5fe-eba3-4e49-c7b1-11661ad097ca"
      },
      "source": [
        "from fbprophet.plot import plot_cross_validation_metric\n",
        "fig = plot_cross_validation_metric(df_cv, metric='rmse')"
      ],
      "execution_count": 28,
      "outputs": [
        {
          "output_type": "display_data",
          "data": {
            "image/png": "[encoded data removed]",
            "text/plain": [
              "<Figure size 720x432 with 1 Axes>"
            ]
          },
          "metadata": {
            "tags": []
          }
        }
      ]
    },
    {
      "cell_type": "markdown",
      "metadata": {
        "id": "lktABXNIOGGg"
      },
      "source": [
        "## MODEL 2: LSTM\r\n",
        "\r\n",
        "##### Library Import"
      ]
    },
    {
      "cell_type": "code",
      "metadata": {
        "id": "i6XS_zCp3Pka"
      },
      "source": [
        "import torch\r\n",
        "import torch.nn as nn\r\n",
        "from torch.autograd import Variable\r\n",
        "from sklearn.preprocessing import MinMaxScaler"
      ],
      "execution_count": 29,
      "outputs": []
    },
    {
      "cell_type": "markdown",
      "metadata": {
        "id": "cn9OdQlMRKlf"
      },
      "source": [
        "##### Data Loading"
      ]
    },
    {
      "cell_type": "code",
      "metadata": {
        "id": "-HYwXL5A3PnL"
      },
      "source": [
        "training_set = df.copy()"
      ],
      "execution_count": 30,
      "outputs": []
    },
    {
      "cell_type": "code",
      "metadata": {
        "id": "fhh-dlbl3Pps"
      },
      "source": [
        "def sliding_windows(data, seq_length):\r\n",
        "    x = []\r\n",
        "    y = []\r\n",
        "\r\n",
        "    for i in range(len(data)-seq_length-1):\r\n",
        "        _x = data[i:(i+seq_length)]\r\n",
        "        _y = data[i+seq_length]\r\n",
        "        x.append(_x)\r\n",
        "        y.append(_y)\r\n",
        "\r\n",
        "    return np.array(x),np.array(y)\r\n",
        "\r\n",
        "sc = MinMaxScaler()\r\n",
        "training_data = sc.fit_transform(training_set)\r\n",
        "\r\n",
        "seq_length = 4\r\n",
        "x, y = sliding_windows(training_data, seq_length)\r\n",
        "\r\n",
        "train_size = int(len(y) * 0.67)\r\n",
        "test_size = len(y) - train_size\r\n",
        "\r\n",
        "dataX = Variable(torch.Tensor(np.array(x)))\r\n",
        "dataY = Variable(torch.Tensor(np.array(y)))\r\n",
        "\r\n",
        "trainX = Variable(torch.Tensor(np.array(x[0:train_size])))\r\n",
        "trainY = Variable(torch.Tensor(np.array(y[0:train_size])))\r\n",
        "\r\n",
        "testX = Variable(torch.Tensor(np.array(x[train_size:len(x)])))\r\n",
        "testY = Variable(torch.Tensor(np.array(y[train_size:len(y)])))"
      ],
      "execution_count": 31,
      "outputs": []
    },
    {
      "cell_type": "markdown",
      "metadata": {
        "id": "Lj-0grDERZdI"
      },
      "source": [
        "##### Model"
      ]
    },
    {
      "cell_type": "code",
      "metadata": {
        "id": "Fbsio_RP3Pse"
      },
      "source": [
        "class LSTM(nn.Module):\r\n",
        "\r\n",
        "    def __init__(self, num_classes, input_size, hidden_size, num_layers):\r\n",
        "        super(LSTM, self).__init__()\r\n",
        "        \r\n",
        "        self.num_classes = num_classes\r\n",
        "        self.num_layers = num_layers\r\n",
        "        self.input_size = input_size\r\n",
        "        self.hidden_size = hidden_size\r\n",
        "        self.seq_length = seq_length\r\n",
        "        \r\n",
        "        self.lstm = nn.LSTM(input_size=input_size, hidden_size=hidden_size,\r\n",
        "                            num_layers=num_layers, batch_first=True)\r\n",
        "        \r\n",
        "        self.fc = nn.Linear(hidden_size, num_classes)\r\n",
        "\r\n",
        "    def forward(self, x):\r\n",
        "        h_0 = Variable(torch.zeros(\r\n",
        "            self.num_layers, x.size(0), self.hidden_size))\r\n",
        "        \r\n",
        "        c_0 = Variable(torch.zeros(\r\n",
        "            self.num_layers, x.size(0), self.hidden_size))\r\n",
        "        \r\n",
        "        # Propagate input through LSTM\r\n",
        "        ula, (h_out, _) = self.lstm(x, (h_0, c_0))\r\n",
        "        \r\n",
        "        h_out = h_out.view(-1, self.hidden_size)\r\n",
        "        \r\n",
        "        out = self.fc(h_out)\r\n",
        "        \r\n",
        "        return out"
      ],
      "execution_count": 32,
      "outputs": []
    },
    {
      "cell_type": "markdown",
      "metadata": {
        "id": "5Cza4WU_RdYx"
      },
      "source": [
        "##### Training"
      ]
    },
    {
      "cell_type": "code",
      "metadata": {
        "id": "9BYvgFIb3Pu2",
        "colab": {
          "base_uri": "https://localhost:8080/"
        },
        "outputId": "6c98ad9e-0a02-41c3-f2fa-61ad2abc2fd3"
      },
      "source": [
        "num_epochs = 2000\r\n",
        "learning_rate = 0.01\r\n",
        "\r\n",
        "input_size = 1\r\n",
        "hidden_size = 2\r\n",
        "num_layers = 1\r\n",
        "\r\n",
        "num_classes = 1\r\n",
        "\r\n",
        "lstm = LSTM(num_classes, input_size, hidden_size, num_layers)\r\n",
        "\r\n",
        "criterion = torch.nn.MSELoss()    # mean-squared error for regression\r\n",
        "optimizer = torch.optim.Adam(lstm.parameters(), lr=learning_rate)\r\n",
        "#optimizer = torch.optim.SGD(lstm.parameters(), lr=learning_rate)\r\n",
        "\r\n",
        "# Train the model\r\n",
        "for epoch in range(num_epochs):\r\n",
        "    outputs = lstm(trainX)\r\n",
        "    optimizer.zero_grad()\r\n",
        "    \r\n",
        "    # obtain the loss function\r\n",
        "    loss = criterion(outputs, trainY)\r\n",
        "    \r\n",
        "    loss.backward()\r\n",
        "    \r\n",
        "    optimizer.step()\r\n",
        "    if epoch % 100 == 0:\r\n",
        "      print(\"Epoch: %d, loss: %1.5f\" % (epoch, loss.item()))"
      ],
      "execution_count": 33,
      "outputs": [
        {
          "output_type": "stream",
          "text": [
            "Epoch: 0, loss: 0.10221\n",
            "Epoch: 100, loss: 0.00040\n",
            "Epoch: 200, loss: 0.00039\n",
            "Epoch: 300, loss: 0.00039\n",
            "Epoch: 400, loss: 0.00039\n",
            "Epoch: 500, loss: 0.00038\n",
            "Epoch: 600, loss: 0.00038\n",
            "Epoch: 700, loss: 0.00038\n",
            "Epoch: 800, loss: 0.00038\n",
            "Epoch: 900, loss: 0.00038\n",
            "Epoch: 1000, loss: 0.00038\n",
            "Epoch: 1100, loss: 0.00038\n",
            "Epoch: 1200, loss: 0.00038\n",
            "Epoch: 1300, loss: 0.00038\n",
            "Epoch: 1400, loss: 0.00038\n",
            "Epoch: 1500, loss: 0.00038\n",
            "Epoch: 1600, loss: 0.00038\n",
            "Epoch: 1700, loss: 0.00038\n",
            "Epoch: 1800, loss: 0.00038\n",
            "Epoch: 1900, loss: 0.00038\n"
          ],
          "name": "stdout"
        }
      ]
    },
    {
      "cell_type": "markdown",
      "metadata": {
        "id": "8VKACfggRhMI"
      },
      "source": [
        "##### Testing"
      ]
    },
    {
      "cell_type": "code",
      "metadata": {
        "id": "5iTGXn7t1VXf",
        "colab": {
          "base_uri": "https://localhost:8080/",
          "height": 294
        },
        "outputId": "f90f8098-dd59-4fa7-bb29-283bacb884f2"
      },
      "source": [
        "lstm.eval()\r\n",
        "train_predict = lstm(dataX)\r\n",
        "\r\n",
        "data_predict = train_predict.data.numpy()\r\n",
        "dataY_plot = dataY.data.numpy()\r\n",
        "\r\n",
        "data_predict = sc.inverse_transform(data_predict)\r\n",
        "dataY_plot = sc.inverse_transform(dataY_plot)\r\n",
        "\r\n",
        "plt.axvline(x=train_size, c='r', linestyle='--')\r\n",
        "\r\n",
        "plt.plot(dataY_plot)\r\n",
        "plt.plot(data_predict)\r\n",
        "plt.suptitle('Time-Series Prediction')\r\n",
        "plt.show()\r\n",
        "\r\n",
        "### Red line showing TEST-TRAIN Split"
      ],
      "execution_count": 34,
      "outputs": [
        {
          "output_type": "display_data",
          "data": {
            "image/png": "[encoded data removed]",
            "text/plain": [
              "<Figure size 432x288 with 1 Axes>"
            ]
          },
          "metadata": {
            "tags": [],
            "needs_background": "light"
          }
        }
      ]
    },
    {
      "cell_type": "markdown",
      "metadata": {
        "id": "ISOQmgXaT7eB"
      },
      "source": [
        "## Model 3: Arima/Sarimax Monthly Prediction\r\n",
        "\r\n",
        "##### Loading Data"
      ]
    },
    {
      "cell_type": "code",
      "metadata": {
        "id": "w_5WwShiQul-",
        "colab": {
          "base_uri": "https://localhost:8080/",
          "height": 424
        },
        "outputId": "47ea383e-f663-4738-e1d2-cdaf4a6ee710"
      },
      "source": [
        "### Creating Monthly Distribution\r\n",
        "DF = df.resample('MS').mean()\r\n",
        "DF"
      ],
      "execution_count": 41,
      "outputs": [
        {
          "output_type": "execute_result",
          "data": {
            "text/html": [
              "<div>\n",
              "<style scoped>\n",
              "    .dataframe tbody tr th:only-of-type {\n",
              "        vertical-align: middle;\n",
              "    }\n",
              "\n",
              "    .dataframe tbody tr th {\n",
              "        vertical-align: top;\n",
              "    }\n",
              "\n",
              "    .dataframe thead th {\n",
              "        text-align: right;\n",
              "    }\n",
              "</style>\n",
              "<table border=\"1\" class=\"dataframe\">\n",
              "  <thead>\n",
              "    <tr style=\"text-align: right;\">\n",
              "      <th></th>\n",
              "      <th>Rainfall</th>\n",
              "    </tr>\n",
              "  </thead>\n",
              "  <tbody>\n",
              "    <tr>\n",
              "      <th>1998-01-01</th>\n",
              "      <td>0.020323</td>\n",
              "    </tr>\n",
              "    <tr>\n",
              "      <th>1998-02-01</th>\n",
              "      <td>0.058929</td>\n",
              "    </tr>\n",
              "    <tr>\n",
              "      <th>1998-03-01</th>\n",
              "      <td>0.000000</td>\n",
              "    </tr>\n",
              "    <tr>\n",
              "      <th>1998-04-01</th>\n",
              "      <td>0.066000</td>\n",
              "    </tr>\n",
              "    <tr>\n",
              "      <th>1998-05-01</th>\n",
              "      <td>0.004839</td>\n",
              "    </tr>\n",
              "    <tr>\n",
              "      <th>...</th>\n",
              "      <td>...</td>\n",
              "    </tr>\n",
              "    <tr>\n",
              "      <th>2019-08-01</th>\n",
              "      <td>0.016452</td>\n",
              "    </tr>\n",
              "    <tr>\n",
              "      <th>2019-09-01</th>\n",
              "      <td>0.133000</td>\n",
              "    </tr>\n",
              "    <tr>\n",
              "      <th>2019-10-01</th>\n",
              "      <td>0.258387</td>\n",
              "    </tr>\n",
              "    <tr>\n",
              "      <th>2019-11-01</th>\n",
              "      <td>0.100000</td>\n",
              "    </tr>\n",
              "    <tr>\n",
              "      <th>2019-12-01</th>\n",
              "      <td>1.873000</td>\n",
              "    </tr>\n",
              "  </tbody>\n",
              "</table>\n",
              "<p>264 rows × 1 columns</p>\n",
              "</div>"
            ],
            "text/plain": [
              "            Rainfall\n",
              "1998-01-01  0.020323\n",
              "1998-02-01  0.058929\n",
              "1998-03-01  0.000000\n",
              "1998-04-01  0.066000\n",
              "1998-05-01  0.004839\n",
              "...              ...\n",
              "2019-08-01  0.016452\n",
              "2019-09-01  0.133000\n",
              "2019-10-01  0.258387\n",
              "2019-11-01  0.100000\n",
              "2019-12-01  1.873000\n",
              "\n",
              "[264 rows x 1 columns]"
            ]
          },
          "metadata": {
            "tags": []
          },
          "execution_count": 41
        }
      ]
    },
    {
      "cell_type": "code",
      "metadata": {
        "colab": {
          "base_uri": "https://localhost:8080/",
          "height": 298
        },
        "id": "1m8KjiVY0PRj",
        "outputId": "f668ac97-5a89-4021-9d2c-77d5ec05f935"
      },
      "source": [
        "DF.plot(figsize=(25,5))"
      ],
      "execution_count": 44,
      "outputs": [
        {
          "output_type": "execute_result",
          "data": {
            "text/plain": [
              "<matplotlib.axes._subplots.AxesSubplot at 0x7f64e241b710>"
            ]
          },
          "metadata": {
            "tags": []
          },
          "execution_count": 44
        },
        {
          "output_type": "display_data",
          "data": {
            "image/png": "[encoded data removed]",
            "text/plain": [
              "<Figure size 1800x360 with 1 Axes>"
            ]
          },
          "metadata": {
            "tags": [],
            "needs_background": "light"
          }
        }
      ]
    },
    {
      "cell_type": "code",
      "metadata": {
        "colab": {
          "base_uri": "https://localhost:8080/"
        },
        "id": "4DhhSv2y3M7C",
        "outputId": "3ef6439b-0a45-4501-d135-b40a914447b0"
      },
      "source": [
        "### Testing For Stationarity\r\n",
        "\r\n",
        "from statsmodels.tsa.stattools import adfuller"
      ],
      "execution_count": 45,
      "outputs": [
        {
          "output_type": "stream",
          "text": [
            "/usr/local/lib/python3.7/dist-packages/statsmodels/tools/_testing.py:19: FutureWarning:\n",
            "\n",
            "pandas.util.testing is deprecated. Use the functions in the public API at pandas.testing instead.\n",
            "\n"
          ],
          "name": "stderr"
        }
      ]
    },
    {
      "cell_type": "code",
      "metadata": {
        "id": "28mQco-p3qKT"
      },
      "source": [
        "test_result=adfuller(DF['Rainfall'])"
      ],
      "execution_count": 47,
      "outputs": []
    },
    {
      "cell_type": "code",
      "metadata": {
        "id": "TMMLw4gC3so_"
      },
      "source": [
        "#Ho: It is non stationary\r\n",
        "#H1: It is stationary\r\n",
        "\r\n",
        "def adfuller_test(rainrate):\r\n",
        "    result=adfuller(rainrate)\r\n",
        "    labels = ['ADF Test Statistic','p-value','#Lags Used','Number of Observations Used']\r\n",
        "    for value,label in zip(result,labels):\r\n",
        "        print(label+' : '+str(value) )\r\n",
        "    if result[1] <= 0.05:\r\n",
        "        print(\"strong evidence against the null hypothesis(Ho), reject the null hypothesis. Data has no unit root and is stationary\")\r\n",
        "    else:\r\n",
        "        print(\"weak evidence against null hypothesis, time series has a unit root, indicating it is non-stationary \")"
      ],
      "execution_count": 48,
      "outputs": []
    },
    {
      "cell_type": "code",
      "metadata": {
        "colab": {
          "base_uri": "https://localhost:8080/"
        },
        "id": "hrCpmdhM3_ej",
        "outputId": "0eb4d777-2c53-47fa-c7cc-2258d23e2b46"
      },
      "source": [
        "adfuller_test(DF['Rainfall'])"
      ],
      "execution_count": 49,
      "outputs": [
        {
          "output_type": "stream",
          "text": [
            "ADF Test Statistic : -14.387773896039226\n",
            "p-value : 8.929683337190833e-27\n",
            "#Lags Used : 0\n",
            "Number of Observations Used : 263\n",
            "strong evidence against the null hypothesis(Ho), reject the null hypothesis. Data has no unit root and is stationary\n"
          ],
          "name": "stdout"
        }
      ]
    },
    {
      "cell_type": "markdown",
      "metadata": {
        "id": "2kHONFBB4eOt"
      },
      "source": [
        "###### Differencing"
      ]
    },
    {
      "cell_type": "code",
      "metadata": {
        "id": "kogXoOlA4Gmo"
      },
      "source": [
        "DF['Rainrate First Difference'] = DF['Rainfall'] - DF['Rainfall'].shift(1)"
      ],
      "execution_count": 50,
      "outputs": []
    },
    {
      "cell_type": "code",
      "metadata": {
        "id": "fZMuR8-94voV"
      },
      "source": [
        "DF['Seasonal First Difference']=DF['Rainfall'] - DF['Rainfall'].shift(12)"
      ],
      "execution_count": 51,
      "outputs": []
    },
    {
      "cell_type": "code",
      "metadata": {
        "colab": {
          "base_uri": "https://localhost:8080/",
          "height": 489
        },
        "id": "6JGtsI3L490O",
        "outputId": "6e7199c2-d15a-4477-b021-3a689e377d21"
      },
      "source": [
        "DF.head(14)"
      ],
      "execution_count": 55,
      "outputs": [
        {
          "output_type": "execute_result",
          "data": {
            "text/html": [
              "<div>\n",
              "<style scoped>\n",
              "    .dataframe tbody tr th:only-of-type {\n",
              "        vertical-align: middle;\n",
              "    }\n",
              "\n",
              "    .dataframe tbody tr th {\n",
              "        vertical-align: top;\n",
              "    }\n",
              "\n",
              "    .dataframe thead th {\n",
              "        text-align: right;\n",
              "    }\n",
              "</style>\n",
              "<table border=\"1\" class=\"dataframe\">\n",
              "  <thead>\n",
              "    <tr style=\"text-align: right;\">\n",
              "      <th></th>\n",
              "      <th>Rainfall</th>\n",
              "      <th>Rainrate First Difference</th>\n",
              "      <th>Seasonal First Difference</th>\n",
              "    </tr>\n",
              "  </thead>\n",
              "  <tbody>\n",
              "    <tr>\n",
              "      <th>1998-01-01</th>\n",
              "      <td>0.020323</td>\n",
              "      <td>NaN</td>\n",
              "      <td>NaN</td>\n",
              "    </tr>\n",
              "    <tr>\n",
              "      <th>1998-02-01</th>\n",
              "      <td>0.058929</td>\n",
              "      <td>0.038606</td>\n",
              "      <td>NaN</td>\n",
              "    </tr>\n",
              "    <tr>\n",
              "      <th>1998-03-01</th>\n",
              "      <td>0.000000</td>\n",
              "      <td>-0.058929</td>\n",
              "      <td>NaN</td>\n",
              "    </tr>\n",
              "    <tr>\n",
              "      <th>1998-04-01</th>\n",
              "      <td>0.066000</td>\n",
              "      <td>0.066000</td>\n",
              "      <td>NaN</td>\n",
              "    </tr>\n",
              "    <tr>\n",
              "      <th>1998-05-01</th>\n",
              "      <td>0.004839</td>\n",
              "      <td>-0.061161</td>\n",
              "      <td>NaN</td>\n",
              "    </tr>\n",
              "    <tr>\n",
              "      <th>1998-06-01</th>\n",
              "      <td>0.237000</td>\n",
              "      <td>0.232161</td>\n",
              "      <td>NaN</td>\n",
              "    </tr>\n",
              "    <tr>\n",
              "      <th>1998-07-01</th>\n",
              "      <td>0.768387</td>\n",
              "      <td>0.531387</td>\n",
              "      <td>NaN</td>\n",
              "    </tr>\n",
              "    <tr>\n",
              "      <th>1998-08-01</th>\n",
              "      <td>0.068710</td>\n",
              "      <td>-0.699677</td>\n",
              "      <td>NaN</td>\n",
              "    </tr>\n",
              "    <tr>\n",
              "      <th>1998-09-01</th>\n",
              "      <td>0.186000</td>\n",
              "      <td>0.117290</td>\n",
              "      <td>NaN</td>\n",
              "    </tr>\n",
              "    <tr>\n",
              "      <th>1998-10-01</th>\n",
              "      <td>2.117419</td>\n",
              "      <td>1.931419</td>\n",
              "      <td>NaN</td>\n",
              "    </tr>\n",
              "    <tr>\n",
              "      <th>1998-11-01</th>\n",
              "      <td>0.016000</td>\n",
              "      <td>-2.101419</td>\n",
              "      <td>NaN</td>\n",
              "    </tr>\n",
              "    <tr>\n",
              "      <th>1998-12-01</th>\n",
              "      <td>0.302903</td>\n",
              "      <td>0.286903</td>\n",
              "      <td>NaN</td>\n",
              "    </tr>\n",
              "    <tr>\n",
              "      <th>1999-01-01</th>\n",
              "      <td>0.113226</td>\n",
              "      <td>-0.189677</td>\n",
              "      <td>0.092903</td>\n",
              "    </tr>\n",
              "    <tr>\n",
              "      <th>1999-02-01</th>\n",
              "      <td>0.000000</td>\n",
              "      <td>-0.113226</td>\n",
              "      <td>-0.058929</td>\n",
              "    </tr>\n",
              "  </tbody>\n",
              "</table>\n",
              "</div>"
            ],
            "text/plain": [
              "            Rainfall  Rainrate First Difference  Seasonal First Difference\n",
              "1998-01-01  0.020323                        NaN                        NaN\n",
              "1998-02-01  0.058929                   0.038606                        NaN\n",
              "1998-03-01  0.000000                  -0.058929                        NaN\n",
              "1998-04-01  0.066000                   0.066000                        NaN\n",
              "1998-05-01  0.004839                  -0.061161                        NaN\n",
              "1998-06-01  0.237000                   0.232161                        NaN\n",
              "1998-07-01  0.768387                   0.531387                        NaN\n",
              "1998-08-01  0.068710                  -0.699677                        NaN\n",
              "1998-09-01  0.186000                   0.117290                        NaN\n",
              "1998-10-01  2.117419                   1.931419                        NaN\n",
              "1998-11-01  0.016000                  -2.101419                        NaN\n",
              "1998-12-01  0.302903                   0.286903                        NaN\n",
              "1999-01-01  0.113226                  -0.189677                   0.092903\n",
              "1999-02-01  0.000000                  -0.113226                  -0.058929"
            ]
          },
          "metadata": {
            "tags": []
          },
          "execution_count": 55
        }
      ]
    },
    {
      "cell_type": "code",
      "metadata": {
        "colab": {
          "base_uri": "https://localhost:8080/"
        },
        "id": "AZgSigbu4_iH",
        "outputId": "f86e7d94-06e0-457a-9373-2a6fa0cd58ef"
      },
      "source": [
        "## Again test dickey fuller test\r\n",
        "adfuller_test(DF['Seasonal First Difference'].dropna())"
      ],
      "execution_count": 56,
      "outputs": [
        {
          "output_type": "stream",
          "text": [
            "ADF Test Statistic : -3.9568989438344553\n",
            "p-value : 0.0016538006496625748\n",
            "#Lags Used : 16\n",
            "Number of Observations Used : 235\n",
            "strong evidence against the null hypothesis(Ho), reject the null hypothesis. Data has no unit root and is stationary\n"
          ],
          "name": "stdout"
        }
      ]
    },
    {
      "cell_type": "code",
      "metadata": {
        "colab": {
          "base_uri": "https://localhost:8080/",
          "height": 283
        },
        "id": "1za2uBdl5WNZ",
        "outputId": "30e99c29-d3ec-4524-f2d7-8c48cd690c47"
      },
      "source": [
        "DF['Seasonal First Difference'].plot()"
      ],
      "execution_count": 57,
      "outputs": [
        {
          "output_type": "execute_result",
          "data": {
            "text/plain": [
              "<matplotlib.axes._subplots.AxesSubplot at 0x7f64e1eef510>"
            ]
          },
          "metadata": {
            "tags": []
          },
          "execution_count": 57
        },
        {
          "output_type": "display_data",
          "data": {
            "image/png": "[encoded data removed]",
            "text/plain": [
              "<Figure size 432x288 with 1 Axes>"
            ]
          },
          "metadata": {
            "tags": [],
            "needs_background": "light"
          }
        }
      ]
    },
    {
      "cell_type": "markdown",
      "metadata": {
        "id": "Tswt1JMH5e2m"
      },
      "source": [
        "#### Auto Regressive Model"
      ]
    },
    {
      "cell_type": "code",
      "metadata": {
        "colab": {
          "base_uri": "https://localhost:8080/",
          "height": 283
        },
        "id": "yttc0XVM5aGN",
        "outputId": "06d86df2-d69b-4e9a-e0e8-0f60461e1730"
      },
      "source": [
        "from pandas.plotting import autocorrelation_plot\r\n",
        "autocorrelation_plot(DF['Rainfall'])\r\n",
        "plt.show()"
      ],
      "execution_count": 61,
      "outputs": [
        {
          "output_type": "display_data",
          "data": {
            "image/png": "[encoded data removed]",
            "text/plain": [
              "<Figure size 432x288 with 1 Axes>"
            ]
          },
          "metadata": {
            "tags": [],
            "needs_background": "light"
          }
        }
      ]
    },
    {
      "cell_type": "markdown",
      "metadata": {
        "id": "Pb_LziNV6LUl"
      },
      "source": [
        "\r\n",
        "#####Autocorrelation and Partial Autocorrelation\r\n",
        "\r\n",
        "    Identification of an AR model is often best done with the PACF.\r\n",
        "        For an AR model, the theoretical PACF “shuts off” past the order of the model. The phrase “shuts off” means that in theory the partial autocorrelations are equal to 0 beyond that point. Put another way, the number of non-zero partial autocorrelations gives the order of the AR model. By the “order of the model” we mean the most extreme lag of x that is used as a predictor.\r\n",
        "\r\n",
        "    Identification of an MA model is often best done with the ACF rather than the PACF.\r\n",
        "\r\n",
        "        For an MA model, the theoretical PACF does not shut off, but instead tapers toward 0 in some manner. A clearer pattern for an MA model is in the ACF. The ACF will have non-zero autocorrelations only at lags involved in the model.\r\n",
        "\r\n",
        "        p,d,q p AR model lags d differencing q MA lags\r\n",
        "\r\n"
      ]
    },
    {
      "cell_type": "code",
      "metadata": {
        "id": "hPjFTSag6TC2"
      },
      "source": [
        "from statsmodels.graphics.tsaplots import plot_acf,plot_pacf"
      ],
      "execution_count": 63,
      "outputs": []
    },
    {
      "cell_type": "code",
      "metadata": {
        "colab": {
          "base_uri": "https://localhost:8080/",
          "height": 499
        },
        "id": "u4hKOpJU6V3i",
        "outputId": "b002a215-4312-4af7-a393-606476c35494"
      },
      "source": [
        "fig = plt.figure(figsize=(12,8))\r\n",
        "ax1 = fig.add_subplot(211)\r\n",
        "fig = plot_acf(DF['Seasonal First Difference'].iloc[13:],lags=40,ax=ax1)\r\n",
        "ax2 = fig.add_subplot(212)\r\n",
        "fig = plot_pacf(DF['Seasonal First Difference'].iloc[13:],lags=40,ax=ax2)"
      ],
      "execution_count": 65,
      "outputs": [
        {
          "output_type": "display_data",
          "data": {
            "image/png": "[encoded data removed]",
            "text/plain": [
              "<Figure size 864x576 with 2 Axes>"
            ]
          },
          "metadata": {
            "tags": [],
            "needs_background": "light"
          }
        }
      ]
    },
    {
      "cell_type": "code",
      "metadata": {
        "id": "OUhkODAQ6eiF"
      },
      "source": [
        "# For non-seasonal data\r\n",
        "#p=1, d=1, q=0 or 1\r\n",
        "from statsmodels.tsa.arima_model import ARIMA"
      ],
      "execution_count": 66,
      "outputs": []
    },
    {
      "cell_type": "code",
      "metadata": {
        "id": "BbLwI64p6_P3"
      },
      "source": [
        "model=ARIMA(DF['Rainfall'],order=(1,1,1))\r\n",
        "model_fit=model.fit()"
      ],
      "execution_count": 67,
      "outputs": []
    },
    {
      "cell_type": "code",
      "metadata": {
        "colab": {
          "base_uri": "https://localhost:8080/",
          "height": 357
        },
        "id": "FT73jY9w7F8v",
        "outputId": "5ade5db9-2139-43fd-a157-15607f2e7fe3"
      },
      "source": [
        "model_fit.summary()"
      ],
      "execution_count": 68,
      "outputs": [
        {
          "output_type": "execute_result",
          "data": {
            "text/html": [
              "<table class=\"simpletable\">\n",
              "<caption>ARIMA Model Results</caption>\n",
              "<tr>\n",
              "  <th>Dep. Variable:</th>    <td>D.Rainfall</td>    <th>  No. Observations:  </th>    <td>263</td>  \n",
              "</tr>\n",
              "<tr>\n",
              "  <th>Model:</th>          <td>ARIMA(1, 1, 1)</td>  <th>  Log Likelihood     </th> <td>-461.929</td>\n",
              "</tr>\n",
              "<tr>\n",
              "  <th>Method:</th>             <td>css-mle</td>     <th>  S.D. of innovations</th>   <td>1.387</td> \n",
              "</tr>\n",
              "<tr>\n",
              "  <th>Date:</th>          <td>Wed, 03 Mar 2021</td> <th>  AIC                </th>  <td>931.858</td>\n",
              "</tr>\n",
              "<tr>\n",
              "  <th>Time:</th>              <td>11:50:13</td>     <th>  BIC                </th>  <td>946.147</td>\n",
              "</tr>\n",
              "<tr>\n",
              "  <th>Sample:</th>           <td>02-01-1998</td>    <th>  HQIC               </th>  <td>937.600</td>\n",
              "</tr>\n",
              "<tr>\n",
              "  <th></th>                 <td>- 12-01-2019</td>   <th>                     </th>     <td> </td>   \n",
              "</tr>\n",
              "</table>\n",
              "<table class=\"simpletable\">\n",
              "<tr>\n",
              "          <td></td>            <th>coef</th>     <th>std err</th>      <th>z</th>      <th>P>|z|</th>  <th>[0.025</th>    <th>0.975]</th>  \n",
              "</tr>\n",
              "<tr>\n",
              "  <th>const</th>            <td>    0.0004</td> <td>    0.001</td> <td>    0.292</td> <td> 0.770</td> <td>   -0.002</td> <td>    0.003</td>\n",
              "</tr>\n",
              "<tr>\n",
              "  <th>ar.L1.D.Rainfall</th> <td>    0.1168</td> <td>    0.061</td> <td>    1.901</td> <td> 0.058</td> <td>   -0.004</td> <td>    0.237</td>\n",
              "</tr>\n",
              "<tr>\n",
              "  <th>ma.L1.D.Rainfall</th> <td>   -1.0000</td> <td>    0.013</td> <td>  -78.297</td> <td> 0.000</td> <td>   -1.025</td> <td>   -0.975</td>\n",
              "</tr>\n",
              "</table>\n",
              "<table class=\"simpletable\">\n",
              "<caption>Roots</caption>\n",
              "<tr>\n",
              "    <td></td>   <th>            Real</th>  <th>         Imaginary</th> <th>         Modulus</th>  <th>        Frequency</th>\n",
              "</tr>\n",
              "<tr>\n",
              "  <th>AR.1</th> <td>           8.5615</td> <td>          +0.0000j</td> <td>           8.5615</td> <td>           0.0000</td>\n",
              "</tr>\n",
              "<tr>\n",
              "  <th>MA.1</th> <td>           1.0000</td> <td>          +0.0000j</td> <td>           1.0000</td> <td>           0.0000</td>\n",
              "</tr>\n",
              "</table>"
            ],
            "text/plain": [
              "<class 'statsmodels.iolib.summary.Summary'>\n",
              "\"\"\"\n",
              "                             ARIMA Model Results                              \n",
              "==============================================================================\n",
              "Dep. Variable:             D.Rainfall   No. Observations:                  263\n",
              "Model:                 ARIMA(1, 1, 1)   Log Likelihood                -461.929\n",
              "Method:                       css-mle   S.D. of innovations              1.387\n",
              "Date:                Wed, 03 Mar 2021   AIC                            931.858\n",
              "Time:                        11:50:13   BIC                            946.147\n",
              "Sample:                    02-01-1998   HQIC                           937.600\n",
              "                         - 12-01-2019                                         \n",
              "====================================================================================\n",
              "                       coef    std err          z      P>|z|      [0.025      0.975]\n",
              "------------------------------------------------------------------------------------\n",
              "const                0.0004      0.001      0.292      0.770      -0.002       0.003\n",
              "ar.L1.D.Rainfall     0.1168      0.061      1.901      0.058      -0.004       0.237\n",
              "ma.L1.D.Rainfall    -1.0000      0.013    -78.297      0.000      -1.025      -0.975\n",
              "                                    Roots                                    \n",
              "=============================================================================\n",
              "                  Real          Imaginary           Modulus         Frequency\n",
              "-----------------------------------------------------------------------------\n",
              "AR.1            8.5615           +0.0000j            8.5615            0.0000\n",
              "MA.1            1.0000           +0.0000j            1.0000            0.0000\n",
              "-----------------------------------------------------------------------------\n",
              "\"\"\""
            ]
          },
          "metadata": {
            "tags": []
          },
          "execution_count": 68
        }
      ]
    },
    {
      "cell_type": "code",
      "metadata": {
        "colab": {
          "base_uri": "https://localhost:8080/",
          "height": 501
        },
        "id": "zE9D-hvA7JAW",
        "outputId": "fb8ea159-e4a3-4a85-c350-b35c4c9cd5e2"
      },
      "source": [
        "DF['forecast']=model_fit.predict(start=90,end=120,dynamic=True)\r\n",
        "DF[['Rainfall','forecast']].plot(figsize=(12,8))"
      ],
      "execution_count": 69,
      "outputs": [
        {
          "output_type": "execute_result",
          "data": {
            "text/plain": [
              "<matplotlib.axes._subplots.AxesSubplot at 0x7f64e1c5d690>"
            ]
          },
          "metadata": {
            "tags": []
          },
          "execution_count": 69
        },
        {
          "output_type": "display_data",
          "data": {
            "image/png": "[encoded data removed]",
            "text/plain": [
              "<Figure size 864x576 with 1 Axes>"
            ]
          },
          "metadata": {
            "tags": [],
            "needs_background": "light"
          }
        }
      ]
    },
    {
      "cell_type": "markdown",
      "metadata": {
        "id": "ZsLSg1Do9PpF"
      },
      "source": [
        "Therefore, ARIMAX is not suitable for seasonal data\r\n",
        "\r\n",
        "#### Sarimax"
      ]
    },
    {
      "cell_type": "code",
      "metadata": {
        "id": "Ox4yuD0g7UFl"
      },
      "source": [
        "import statsmodels.api as sm"
      ],
      "execution_count": 70,
      "outputs": []
    },
    {
      "cell_type": "code",
      "metadata": {
        "id": "GOij4CER7fG_"
      },
      "source": [
        "model=sm.tsa.statespace.SARIMAX(DF['Rainfall'],order=(1, 1, 1),seasonal_order=(1,1,1,12))\r\n",
        "results=model.fit()"
      ],
      "execution_count": 71,
      "outputs": []
    },
    {
      "cell_type": "code",
      "metadata": {
        "colab": {
          "base_uri": "https://localhost:8080/",
          "height": 501
        },
        "id": "i_7zqxRx7wFZ",
        "outputId": "82d94cdf-41fa-4801-a384-76396bfc4398"
      },
      "source": [
        "DF['forecast']=results.predict(start=90,end=120,dynamic=True)\r\n",
        "DF[['Rainfall','forecast']].plot(figsize=(12,8))"
      ],
      "execution_count": 74,
      "outputs": [
        {
          "output_type": "execute_result",
          "data": {
            "text/plain": [
              "<matplotlib.axes._subplots.AxesSubplot at 0x7f64e0fc5590>"
            ]
          },
          "metadata": {
            "tags": []
          },
          "execution_count": 74
        },
        {
          "output_type": "display_data",
          "data": {
            "image/png": "[encoded data removed]",
            "text/plain": [
              "<Figure size 864x576 with 1 Axes>"
            ]
          },
          "metadata": {
            "tags": [],
            "needs_background": "light"
          }
        }
      ]
    },
    {
      "cell_type": "code",
      "metadata": {
        "id": "TVTHVyu375lR"
      },
      "source": [
        "from pandas.tseries.offsets import DateOffset\r\n",
        "future_dates=[DF.index[-1]+ DateOffset(months=x)for x in range(0,24)]"
      ],
      "execution_count": 76,
      "outputs": []
    },
    {
      "cell_type": "code",
      "metadata": {
        "id": "d5c86imN8OiA"
      },
      "source": [
        "future_datest_df=pd.DataFrame(index=future_dates[1:],columns=DF.columns)"
      ],
      "execution_count": 77,
      "outputs": []
    },
    {
      "cell_type": "code",
      "metadata": {
        "colab": {
          "base_uri": "https://localhost:8080/",
          "height": 206
        },
        "id": "-XztWeae8X7B",
        "outputId": "050358f1-d2b6-4b9c-febb-0774db0ae24f"
      },
      "source": [
        "future_datest_df.tail()"
      ],
      "execution_count": 78,
      "outputs": [
        {
          "output_type": "execute_result",
          "data": {
            "text/html": [
              "<div>\n",
              "<style scoped>\n",
              "    .dataframe tbody tr th:only-of-type {\n",
              "        vertical-align: middle;\n",
              "    }\n",
              "\n",
              "    .dataframe tbody tr th {\n",
              "        vertical-align: top;\n",
              "    }\n",
              "\n",
              "    .dataframe thead th {\n",
              "        text-align: right;\n",
              "    }\n",
              "</style>\n",
              "<table border=\"1\" class=\"dataframe\">\n",
              "  <thead>\n",
              "    <tr style=\"text-align: right;\">\n",
              "      <th></th>\n",
              "      <th>Rainfall</th>\n",
              "      <th>Rainrate First Difference</th>\n",
              "      <th>Seasonal First Difference</th>\n",
              "      <th>forecast</th>\n",
              "    </tr>\n",
              "  </thead>\n",
              "  <tbody>\n",
              "    <tr>\n",
              "      <th>2021-07-01</th>\n",
              "      <td>NaN</td>\n",
              "      <td>NaN</td>\n",
              "      <td>NaN</td>\n",
              "      <td>NaN</td>\n",
              "    </tr>\n",
              "    <tr>\n",
              "      <th>2021-08-01</th>\n",
              "      <td>NaN</td>\n",
              "      <td>NaN</td>\n",
              "      <td>NaN</td>\n",
              "      <td>NaN</td>\n",
              "    </tr>\n",
              "    <tr>\n",
              "      <th>2021-09-01</th>\n",
              "      <td>NaN</td>\n",
              "      <td>NaN</td>\n",
              "      <td>NaN</td>\n",
              "      <td>NaN</td>\n",
              "    </tr>\n",
              "    <tr>\n",
              "      <th>2021-10-01</th>\n",
              "      <td>NaN</td>\n",
              "      <td>NaN</td>\n",
              "      <td>NaN</td>\n",
              "      <td>NaN</td>\n",
              "    </tr>\n",
              "    <tr>\n",
              "      <th>2021-11-01</th>\n",
              "      <td>NaN</td>\n",
              "      <td>NaN</td>\n",
              "      <td>NaN</td>\n",
              "      <td>NaN</td>\n",
              "    </tr>\n",
              "  </tbody>\n",
              "</table>\n",
              "</div>"
            ],
            "text/plain": [
              "           Rainfall  ... forecast\n",
              "2021-07-01      NaN  ...      NaN\n",
              "2021-08-01      NaN  ...      NaN\n",
              "2021-09-01      NaN  ...      NaN\n",
              "2021-10-01      NaN  ...      NaN\n",
              "2021-11-01      NaN  ...      NaN\n",
              "\n",
              "[5 rows x 4 columns]"
            ]
          },
          "metadata": {
            "tags": []
          },
          "execution_count": 78
        }
      ]
    },
    {
      "cell_type": "code",
      "metadata": {
        "colab": {
          "base_uri": "https://localhost:8080/"
        },
        "id": "TQPRRycA84be",
        "outputId": "3b58d62c-f9db-4706-c9b6-54596263d5ef"
      },
      "source": [
        "DF.info()"
      ],
      "execution_count": 83,
      "outputs": [
        {
          "output_type": "stream",
          "text": [
            "<class 'pandas.core.frame.DataFrame'>\n",
            "DatetimeIndex: 264 entries, 1998-01-01 to 2019-12-01\n",
            "Freq: MS\n",
            "Data columns (total 4 columns):\n",
            " #   Column                     Non-Null Count  Dtype  \n",
            "---  ------                     --------------  -----  \n",
            " 0   Rainfall                   264 non-null    float64\n",
            " 1   Rainrate First Difference  263 non-null    float64\n",
            " 2   Seasonal First Difference  252 non-null    float64\n",
            " 3   forecast                   31 non-null     float64\n",
            "dtypes: float64(4)\n",
            "memory usage: 20.3 KB\n"
          ],
          "name": "stdout"
        }
      ]
    },
    {
      "cell_type": "code",
      "metadata": {
        "id": "LAySOpZQ8a2u"
      },
      "source": [
        "future_df=pd.concat([DF,future_datest_df])"
      ],
      "execution_count": 80,
      "outputs": []
    },
    {
      "cell_type": "code",
      "metadata": {
        "colab": {
          "base_uri": "https://localhost:8080/",
          "height": 501
        },
        "id": "830j0EqT8c6x",
        "outputId": "2f25e682-1f16-47d5-9849-9a9c722e0634"
      },
      "source": [
        "future_df['forecast'] = results.predict(start = 260, end = 276, dynamic= True)  \r\n",
        "future_df[['Rainfall', 'forecast']].plot(figsize=(12, 8))"
      ],
      "execution_count": 85,
      "outputs": [
        {
          "output_type": "execute_result",
          "data": {
            "text/plain": [
              "<matplotlib.axes._subplots.AxesSubplot at 0x7f64e0c9c610>"
            ]
          },
          "metadata": {
            "tags": []
          },
          "execution_count": 85
        },
        {
          "output_type": "display_data",
          "data": {
            "image/png": "[encoded data removed]",
            "text/plain": [
              "<Figure size 864x576 with 1 Axes>"
            ]
          },
          "metadata": {
            "tags": [],
            "needs_background": "light"
          }
        }
      ]
    },
    {
      "cell_type": "markdown",
      "metadata": {
        "id": "IW-u8y7Z_XT1"
      },
      "source": [
        "### Thank You"
      ]
    },
    {
      "cell_type": "code",
      "metadata": {
        "id": "9jrAlWfo_ZyL"
      },
      "source": [
        ""
      ],
      "execution_count": null,
      "outputs": []
    }
  ]
}